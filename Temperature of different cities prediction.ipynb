{
 "cells": [
  {
   "cell_type": "code",
   "execution_count": 393,
   "metadata": {},
   "outputs": [],
   "source": [
    "import pandas as pd\n",
    "import numpy as np\n",
    "import matplotlib.pyplot as plt\n",
    "import sklearn\n",
    "import seaborn as sns\n",
    "import statsmodels\n",
    "from statsmodels.tsa.stattools import adfuller\n",
    "from statsmodels.graphics.tsaplots import plot_acf,plot_pacf\n",
    "from statsmodels.graphics.api import qqplot\n",
    "from statsmodels.tsa.arima_model import ARIMA\n",
    "from sklearn.metrics import mean_squared_error"
   ]
  },
  {
   "cell_type": "code",
   "execution_count": 309,
   "metadata": {},
   "outputs": [
    {
     "data": {
      "text/html": [
       "<div>\n",
       "<style scoped>\n",
       "    .dataframe tbody tr th:only-of-type {\n",
       "        vertical-align: middle;\n",
       "    }\n",
       "\n",
       "    .dataframe tbody tr th {\n",
       "        vertical-align: top;\n",
       "    }\n",
       "\n",
       "    .dataframe thead th {\n",
       "        text-align: right;\n",
       "    }\n",
       "</style>\n",
       "<table border=\"1\" class=\"dataframe\">\n",
       "  <thead>\n",
       "    <tr style=\"text-align: right;\">\n",
       "      <th></th>\n",
       "      <th>dt</th>\n",
       "      <th>LandAverageTemperature</th>\n",
       "      <th>LandAverageTemperatureUncertainty</th>\n",
       "      <th>LandMaxTemperature</th>\n",
       "      <th>LandMaxTemperatureUncertainty</th>\n",
       "      <th>LandMinTemperature</th>\n",
       "      <th>LandMinTemperatureUncertainty</th>\n",
       "      <th>LandAndOceanAverageTemperature</th>\n",
       "      <th>LandAndOceanAverageTemperatureUncertainty</th>\n",
       "    </tr>\n",
       "  </thead>\n",
       "  <tbody>\n",
       "    <tr>\n",
       "      <th>0</th>\n",
       "      <td>1750-01-01</td>\n",
       "      <td>3.034</td>\n",
       "      <td>3.574</td>\n",
       "      <td>NaN</td>\n",
       "      <td>NaN</td>\n",
       "      <td>NaN</td>\n",
       "      <td>NaN</td>\n",
       "      <td>NaN</td>\n",
       "      <td>NaN</td>\n",
       "    </tr>\n",
       "    <tr>\n",
       "      <th>1</th>\n",
       "      <td>1750-02-01</td>\n",
       "      <td>3.083</td>\n",
       "      <td>3.702</td>\n",
       "      <td>NaN</td>\n",
       "      <td>NaN</td>\n",
       "      <td>NaN</td>\n",
       "      <td>NaN</td>\n",
       "      <td>NaN</td>\n",
       "      <td>NaN</td>\n",
       "    </tr>\n",
       "    <tr>\n",
       "      <th>2</th>\n",
       "      <td>1750-03-01</td>\n",
       "      <td>5.626</td>\n",
       "      <td>3.076</td>\n",
       "      <td>NaN</td>\n",
       "      <td>NaN</td>\n",
       "      <td>NaN</td>\n",
       "      <td>NaN</td>\n",
       "      <td>NaN</td>\n",
       "      <td>NaN</td>\n",
       "    </tr>\n",
       "    <tr>\n",
       "      <th>3</th>\n",
       "      <td>1750-04-01</td>\n",
       "      <td>8.490</td>\n",
       "      <td>2.451</td>\n",
       "      <td>NaN</td>\n",
       "      <td>NaN</td>\n",
       "      <td>NaN</td>\n",
       "      <td>NaN</td>\n",
       "      <td>NaN</td>\n",
       "      <td>NaN</td>\n",
       "    </tr>\n",
       "    <tr>\n",
       "      <th>4</th>\n",
       "      <td>1750-05-01</td>\n",
       "      <td>11.573</td>\n",
       "      <td>2.072</td>\n",
       "      <td>NaN</td>\n",
       "      <td>NaN</td>\n",
       "      <td>NaN</td>\n",
       "      <td>NaN</td>\n",
       "      <td>NaN</td>\n",
       "      <td>NaN</td>\n",
       "    </tr>\n",
       "  </tbody>\n",
       "</table>\n",
       "</div>"
      ],
      "text/plain": [
       "          dt  LandAverageTemperature  LandAverageTemperatureUncertainty  \\\n",
       "0 1750-01-01                   3.034                              3.574   \n",
       "1 1750-02-01                   3.083                              3.702   \n",
       "2 1750-03-01                   5.626                              3.076   \n",
       "3 1750-04-01                   8.490                              2.451   \n",
       "4 1750-05-01                  11.573                              2.072   \n",
       "\n",
       "   LandMaxTemperature  LandMaxTemperatureUncertainty  LandMinTemperature  \\\n",
       "0                 NaN                            NaN                 NaN   \n",
       "1                 NaN                            NaN                 NaN   \n",
       "2                 NaN                            NaN                 NaN   \n",
       "3                 NaN                            NaN                 NaN   \n",
       "4                 NaN                            NaN                 NaN   \n",
       "\n",
       "   LandMinTemperatureUncertainty  LandAndOceanAverageTemperature  \\\n",
       "0                            NaN                             NaN   \n",
       "1                            NaN                             NaN   \n",
       "2                            NaN                             NaN   \n",
       "3                            NaN                             NaN   \n",
       "4                            NaN                             NaN   \n",
       "\n",
       "   LandAndOceanAverageTemperatureUncertainty  \n",
       "0                                        NaN  \n",
       "1                                        NaN  \n",
       "2                                        NaN  \n",
       "3                                        NaN  \n",
       "4                                        NaN  "
      ]
     },
     "execution_count": 309,
     "metadata": {},
     "output_type": "execute_result"
    }
   ],
   "source": [
    "data=pd.read_csv(\"GlobalTemperatures.csv\",header=0,parse_dates=[0])\n",
    "data.head()"
   ]
  },
  {
   "cell_type": "code",
   "execution_count": 310,
   "metadata": {},
   "outputs": [
    {
     "name": "stdout",
     "output_type": "stream",
     "text": [
      "<class 'pandas.core.frame.DataFrame'>\n",
      "RangeIndex: 3192 entries, 0 to 3191\n",
      "Data columns (total 9 columns):\n",
      " #   Column                                     Non-Null Count  Dtype         \n",
      "---  ------                                     --------------  -----         \n",
      " 0   dt                                         3192 non-null   datetime64[ns]\n",
      " 1   LandAverageTemperature                     3180 non-null   float64       \n",
      " 2   LandAverageTemperatureUncertainty          3180 non-null   float64       \n",
      " 3   LandMaxTemperature                         1992 non-null   float64       \n",
      " 4   LandMaxTemperatureUncertainty              1992 non-null   float64       \n",
      " 5   LandMinTemperature                         1992 non-null   float64       \n",
      " 6   LandMinTemperatureUncertainty              1992 non-null   float64       \n",
      " 7   LandAndOceanAverageTemperature             1992 non-null   float64       \n",
      " 8   LandAndOceanAverageTemperatureUncertainty  1992 non-null   float64       \n",
      "dtypes: datetime64[ns](1), float64(8)\n",
      "memory usage: 224.6 KB\n"
     ]
    }
   ],
   "source": [
    "data.info()"
   ]
  },
  {
   "cell_type": "code",
   "execution_count": 311,
   "metadata": {},
   "outputs": [
    {
     "data": {
      "text/plain": [
       "0"
      ]
     },
     "execution_count": 311,
     "metadata": {},
     "output_type": "execute_result"
    }
   ],
   "source": [
    "data.duplicated().sum()"
   ]
  },
  {
   "cell_type": "code",
   "execution_count": 312,
   "metadata": {},
   "outputs": [
    {
     "data": {
      "text/plain": [
       "Timestamp('1750-01-01 00:00:00')"
      ]
     },
     "execution_count": 312,
     "metadata": {},
     "output_type": "execute_result"
    }
   ],
   "source": [
    "data['dt'][0]"
   ]
  },
  {
   "cell_type": "code",
   "execution_count": 313,
   "metadata": {},
   "outputs": [
    {
     "data": {
      "text/plain": [
       "dt                                              0\n",
       "LandAverageTemperature                         12\n",
       "LandAverageTemperatureUncertainty              12\n",
       "LandMaxTemperature                           1200\n",
       "LandMaxTemperatureUncertainty                1200\n",
       "LandMinTemperature                           1200\n",
       "LandMinTemperatureUncertainty                1200\n",
       "LandAndOceanAverageTemperature               1200\n",
       "LandAndOceanAverageTemperatureUncertainty    1200\n",
       "dtype: int64"
      ]
     },
     "execution_count": 313,
     "metadata": {},
     "output_type": "execute_result"
    }
   ],
   "source": [
    "data.isnull().sum()"
   ]
  },
  {
   "cell_type": "code",
   "execution_count": 314,
   "metadata": {},
   "outputs": [
    {
     "data": {
      "text/plain": [
       "(3192, 9)"
      ]
     },
     "execution_count": 314,
     "metadata": {},
     "output_type": "execute_result"
    }
   ],
   "source": [
    "data.shape"
   ]
  },
  {
   "cell_type": "markdown",
   "metadata": {},
   "source": [
    "Only date column has no missing values."
   ]
  },
  {
   "cell_type": "code",
   "execution_count": 315,
   "metadata": {},
   "outputs": [],
   "source": [
    "#Let vreate year feature\n",
    "data['Year']=data['dt'].dt.year"
   ]
  },
  {
   "cell_type": "code",
   "execution_count": 316,
   "metadata": {},
   "outputs": [
    {
     "data": {
      "text/html": [
       "<div>\n",
       "<style scoped>\n",
       "    .dataframe tbody tr th:only-of-type {\n",
       "        vertical-align: middle;\n",
       "    }\n",
       "\n",
       "    .dataframe tbody tr th {\n",
       "        vertical-align: top;\n",
       "    }\n",
       "\n",
       "    .dataframe thead th {\n",
       "        text-align: right;\n",
       "    }\n",
       "</style>\n",
       "<table border=\"1\" class=\"dataframe\">\n",
       "  <thead>\n",
       "    <tr style=\"text-align: right;\">\n",
       "      <th></th>\n",
       "      <th>LandAverageTemperature</th>\n",
       "      <th>LandAverageTemperatureUncertainty</th>\n",
       "    </tr>\n",
       "    <tr>\n",
       "      <th>Year</th>\n",
       "      <th></th>\n",
       "      <th></th>\n",
       "    </tr>\n",
       "  </thead>\n",
       "  <tbody>\n",
       "    <tr>\n",
       "      <th>1750</th>\n",
       "      <td>8.719364</td>\n",
       "      <td>2.637818</td>\n",
       "    </tr>\n",
       "    <tr>\n",
       "      <th>1751</th>\n",
       "      <td>7.976143</td>\n",
       "      <td>2.781143</td>\n",
       "    </tr>\n",
       "    <tr>\n",
       "      <th>1752</th>\n",
       "      <td>5.779833</td>\n",
       "      <td>2.977000</td>\n",
       "    </tr>\n",
       "    <tr>\n",
       "      <th>1753</th>\n",
       "      <td>8.388083</td>\n",
       "      <td>3.176000</td>\n",
       "    </tr>\n",
       "    <tr>\n",
       "      <th>1754</th>\n",
       "      <td>8.469333</td>\n",
       "      <td>3.494250</td>\n",
       "    </tr>\n",
       "    <tr>\n",
       "      <th>...</th>\n",
       "      <td>...</td>\n",
       "      <td>...</td>\n",
       "    </tr>\n",
       "    <tr>\n",
       "      <th>2011</th>\n",
       "      <td>9.516000</td>\n",
       "      <td>0.082000</td>\n",
       "    </tr>\n",
       "    <tr>\n",
       "      <th>2012</th>\n",
       "      <td>9.507333</td>\n",
       "      <td>0.083417</td>\n",
       "    </tr>\n",
       "    <tr>\n",
       "      <th>2013</th>\n",
       "      <td>9.606500</td>\n",
       "      <td>0.097667</td>\n",
       "    </tr>\n",
       "    <tr>\n",
       "      <th>2014</th>\n",
       "      <td>9.570667</td>\n",
       "      <td>0.090167</td>\n",
       "    </tr>\n",
       "    <tr>\n",
       "      <th>2015</th>\n",
       "      <td>9.831000</td>\n",
       "      <td>0.092167</td>\n",
       "    </tr>\n",
       "  </tbody>\n",
       "</table>\n",
       "<p>266 rows × 2 columns</p>\n",
       "</div>"
      ],
      "text/plain": [
       "      LandAverageTemperature  LandAverageTemperatureUncertainty\n",
       "Year                                                           \n",
       "1750                8.719364                           2.637818\n",
       "1751                7.976143                           2.781143\n",
       "1752                5.779833                           2.977000\n",
       "1753                8.388083                           3.176000\n",
       "1754                8.469333                           3.494250\n",
       "...                      ...                                ...\n",
       "2011                9.516000                           0.082000\n",
       "2012                9.507333                           0.083417\n",
       "2013                9.606500                           0.097667\n",
       "2014                9.570667                           0.090167\n",
       "2015                9.831000                           0.092167\n",
       "\n",
       "[266 rows x 2 columns]"
      ]
     },
     "execution_count": 316,
     "metadata": {},
     "output_type": "execute_result"
    }
   ],
   "source": [
    "data.groupby('Year').agg({'LandAverageTemperature':'mean','LandAverageTemperatureUncertainty':'mean'})"
   ]
  },
  {
   "cell_type": "code",
   "execution_count": 317,
   "metadata": {},
   "outputs": [
    {
     "data": {
      "text/html": [
       "<div>\n",
       "<style scoped>\n",
       "    .dataframe tbody tr th:only-of-type {\n",
       "        vertical-align: middle;\n",
       "    }\n",
       "\n",
       "    .dataframe tbody tr th {\n",
       "        vertical-align: top;\n",
       "    }\n",
       "\n",
       "    .dataframe thead th {\n",
       "        text-align: right;\n",
       "    }\n",
       "</style>\n",
       "<table border=\"1\" class=\"dataframe\">\n",
       "  <thead>\n",
       "    <tr style=\"text-align: right;\">\n",
       "      <th></th>\n",
       "      <th>Year</th>\n",
       "      <th>LandAverageTemperature</th>\n",
       "      <th>LandAverageTemperatureUncertainty</th>\n",
       "    </tr>\n",
       "  </thead>\n",
       "  <tbody>\n",
       "    <tr>\n",
       "      <th>0</th>\n",
       "      <td>1750</td>\n",
       "      <td>8.719364</td>\n",
       "      <td>2.637818</td>\n",
       "    </tr>\n",
       "    <tr>\n",
       "      <th>1</th>\n",
       "      <td>1751</td>\n",
       "      <td>7.976143</td>\n",
       "      <td>2.781143</td>\n",
       "    </tr>\n",
       "    <tr>\n",
       "      <th>2</th>\n",
       "      <td>1752</td>\n",
       "      <td>5.779833</td>\n",
       "      <td>2.977000</td>\n",
       "    </tr>\n",
       "    <tr>\n",
       "      <th>3</th>\n",
       "      <td>1753</td>\n",
       "      <td>8.388083</td>\n",
       "      <td>3.176000</td>\n",
       "    </tr>\n",
       "    <tr>\n",
       "      <th>4</th>\n",
       "      <td>1754</td>\n",
       "      <td>8.469333</td>\n",
       "      <td>3.494250</td>\n",
       "    </tr>\n",
       "    <tr>\n",
       "      <th>...</th>\n",
       "      <td>...</td>\n",
       "      <td>...</td>\n",
       "      <td>...</td>\n",
       "    </tr>\n",
       "    <tr>\n",
       "      <th>261</th>\n",
       "      <td>2011</td>\n",
       "      <td>9.516000</td>\n",
       "      <td>0.082000</td>\n",
       "    </tr>\n",
       "    <tr>\n",
       "      <th>262</th>\n",
       "      <td>2012</td>\n",
       "      <td>9.507333</td>\n",
       "      <td>0.083417</td>\n",
       "    </tr>\n",
       "    <tr>\n",
       "      <th>263</th>\n",
       "      <td>2013</td>\n",
       "      <td>9.606500</td>\n",
       "      <td>0.097667</td>\n",
       "    </tr>\n",
       "    <tr>\n",
       "      <th>264</th>\n",
       "      <td>2014</td>\n",
       "      <td>9.570667</td>\n",
       "      <td>0.090167</td>\n",
       "    </tr>\n",
       "    <tr>\n",
       "      <th>265</th>\n",
       "      <td>2015</td>\n",
       "      <td>9.831000</td>\n",
       "      <td>0.092167</td>\n",
       "    </tr>\n",
       "  </tbody>\n",
       "</table>\n",
       "<p>266 rows × 3 columns</p>\n",
       "</div>"
      ],
      "text/plain": [
       "     Year  LandAverageTemperature  LandAverageTemperatureUncertainty\n",
       "0    1750                8.719364                           2.637818\n",
       "1    1751                7.976143                           2.781143\n",
       "2    1752                5.779833                           2.977000\n",
       "3    1753                8.388083                           3.176000\n",
       "4    1754                8.469333                           3.494250\n",
       "..    ...                     ...                                ...\n",
       "261  2011                9.516000                           0.082000\n",
       "262  2012                9.507333                           0.083417\n",
       "263  2013                9.606500                           0.097667\n",
       "264  2014                9.570667                           0.090167\n",
       "265  2015                9.831000                           0.092167\n",
       "\n",
       "[266 rows x 3 columns]"
      ]
     },
     "execution_count": 317,
     "metadata": {},
     "output_type": "execute_result"
    }
   ],
   "source": [
    "df=data.groupby('Year').agg({'LandAverageTemperature':'mean','LandAverageTemperatureUncertainty':'mean'}).reset_index()\n",
    "df"
   ]
  },
  {
   "cell_type": "code",
   "execution_count": 318,
   "metadata": {},
   "outputs": [],
   "source": [
    "#Finding min and max uncertainity of avg temperatures for each year\n",
    "df['Max_uncertainity']=df['LandAverageTemperature'] + df['LandAverageTemperatureUncertainty']\n",
    "df['Min_uncertainity']=df['LandAverageTemperature'] - df['LandAverageTemperatureUncertainty']"
   ]
  },
  {
   "cell_type": "code",
   "execution_count": 319,
   "metadata": {},
   "outputs": [
    {
     "data": {
      "text/html": [
       "<div>\n",
       "<style scoped>\n",
       "    .dataframe tbody tr th:only-of-type {\n",
       "        vertical-align: middle;\n",
       "    }\n",
       "\n",
       "    .dataframe tbody tr th {\n",
       "        vertical-align: top;\n",
       "    }\n",
       "\n",
       "    .dataframe thead th {\n",
       "        text-align: right;\n",
       "    }\n",
       "</style>\n",
       "<table border=\"1\" class=\"dataframe\">\n",
       "  <thead>\n",
       "    <tr style=\"text-align: right;\">\n",
       "      <th></th>\n",
       "      <th>Year</th>\n",
       "      <th>LandAverageTemperature</th>\n",
       "      <th>LandAverageTemperatureUncertainty</th>\n",
       "      <th>Max_uncertainity</th>\n",
       "      <th>Min_uncertainity</th>\n",
       "    </tr>\n",
       "  </thead>\n",
       "  <tbody>\n",
       "    <tr>\n",
       "      <th>0</th>\n",
       "      <td>1750</td>\n",
       "      <td>8.719364</td>\n",
       "      <td>2.637818</td>\n",
       "      <td>11.357182</td>\n",
       "      <td>6.081545</td>\n",
       "    </tr>\n",
       "    <tr>\n",
       "      <th>1</th>\n",
       "      <td>1751</td>\n",
       "      <td>7.976143</td>\n",
       "      <td>2.781143</td>\n",
       "      <td>10.757286</td>\n",
       "      <td>5.195000</td>\n",
       "    </tr>\n",
       "    <tr>\n",
       "      <th>2</th>\n",
       "      <td>1752</td>\n",
       "      <td>5.779833</td>\n",
       "      <td>2.977000</td>\n",
       "      <td>8.756833</td>\n",
       "      <td>2.802833</td>\n",
       "    </tr>\n",
       "  </tbody>\n",
       "</table>\n",
       "</div>"
      ],
      "text/plain": [
       "   Year  LandAverageTemperature  LandAverageTemperatureUncertainty  \\\n",
       "0  1750                8.719364                           2.637818   \n",
       "1  1751                7.976143                           2.781143   \n",
       "2  1752                5.779833                           2.977000   \n",
       "\n",
       "   Max_uncertainity  Min_uncertainity  \n",
       "0         11.357182          6.081545  \n",
       "1         10.757286          5.195000  \n",
       "2          8.756833          2.802833  "
      ]
     },
     "execution_count": 319,
     "metadata": {},
     "output_type": "execute_result"
    }
   ],
   "source": [
    "df.head(3)"
   ]
  },
  {
   "cell_type": "code",
   "execution_count": 320,
   "metadata": {},
   "outputs": [
    {
     "data": {
      "text/plain": [
       "Index(['Year', 'LandAverageTemperature', 'LandAverageTemperatureUncertainty',\n",
       "       'Max_uncertainity', 'Min_uncertainity'],\n",
       "      dtype='object')"
      ]
     },
     "execution_count": 320,
     "metadata": {},
     "output_type": "execute_result"
    }
   ],
   "source": [
    "#Let plot our dataframe in a multiline chart\n",
    "df.columns"
   ]
  },
  {
   "cell_type": "code",
   "execution_count": 321,
   "metadata": {},
   "outputs": [
    {
     "data": {
      "text/plain": [
       "<AxesSubplot:xlabel='Year'>"
      ]
     },
     "execution_count": 321,
     "metadata": {},
     "output_type": "execute_result"
    },
    {
     "data": {
      "image/png": "[encoded data removed]",
      "text/plain": [
       "<Figure size 1224x648 with 1 Axes>"
      ]
     },
     "metadata": {
      "needs_background": "light"
     },
     "output_type": "display_data"
    }
   ],
   "source": [
    "df.plot(x='Year',y=['LandAverageTemperature', 'LandAverageTemperatureUncertainty',\n",
    "       'Max_uncertainity', 'Min_uncertainity'],figsize=(17,9))"
   ]
  },
  {
   "cell_type": "markdown",
   "metadata": {},
   "source": [
    "## Avg Temp of Season"
   ]
  },
  {
   "cell_type": "markdown",
   "metadata": {},
   "source": [
    "In order to find seasons, we will extract months from year column and afterwards define the seasons through costumized function."
   ]
  },
  {
   "cell_type": "code",
   "execution_count": null,
   "metadata": {},
   "outputs": [],
   "source": []
  },
  {
   "cell_type": "code",
   "execution_count": 322,
   "metadata": {},
   "outputs": [],
   "source": [
    "data['Month']=data['dt'].dt.month"
   ]
  },
  {
   "cell_type": "code",
   "execution_count": 323,
   "metadata": {},
   "outputs": [
    {
     "data": {
      "text/html": [
       "<div>\n",
       "<style scoped>\n",
       "    .dataframe tbody tr th:only-of-type {\n",
       "        vertical-align: middle;\n",
       "    }\n",
       "\n",
       "    .dataframe tbody tr th {\n",
       "        vertical-align: top;\n",
       "    }\n",
       "\n",
       "    .dataframe thead th {\n",
       "        text-align: right;\n",
       "    }\n",
       "</style>\n",
       "<table border=\"1\" class=\"dataframe\">\n",
       "  <thead>\n",
       "    <tr style=\"text-align: right;\">\n",
       "      <th></th>\n",
       "      <th>dt</th>\n",
       "      <th>LandAverageTemperature</th>\n",
       "      <th>LandAverageTemperatureUncertainty</th>\n",
       "      <th>LandMaxTemperature</th>\n",
       "      <th>LandMaxTemperatureUncertainty</th>\n",
       "      <th>LandMinTemperature</th>\n",
       "      <th>LandMinTemperatureUncertainty</th>\n",
       "      <th>LandAndOceanAverageTemperature</th>\n",
       "      <th>LandAndOceanAverageTemperatureUncertainty</th>\n",
       "      <th>Year</th>\n",
       "      <th>Month</th>\n",
       "    </tr>\n",
       "  </thead>\n",
       "  <tbody>\n",
       "    <tr>\n",
       "      <th>0</th>\n",
       "      <td>1750-01-01</td>\n",
       "      <td>3.034</td>\n",
       "      <td>3.574</td>\n",
       "      <td>NaN</td>\n",
       "      <td>NaN</td>\n",
       "      <td>NaN</td>\n",
       "      <td>NaN</td>\n",
       "      <td>NaN</td>\n",
       "      <td>NaN</td>\n",
       "      <td>1750</td>\n",
       "      <td>1</td>\n",
       "    </tr>\n",
       "    <tr>\n",
       "      <th>1</th>\n",
       "      <td>1750-02-01</td>\n",
       "      <td>3.083</td>\n",
       "      <td>3.702</td>\n",
       "      <td>NaN</td>\n",
       "      <td>NaN</td>\n",
       "      <td>NaN</td>\n",
       "      <td>NaN</td>\n",
       "      <td>NaN</td>\n",
       "      <td>NaN</td>\n",
       "      <td>1750</td>\n",
       "      <td>2</td>\n",
       "    </tr>\n",
       "  </tbody>\n",
       "</table>\n",
       "</div>"
      ],
      "text/plain": [
       "          dt  LandAverageTemperature  LandAverageTemperatureUncertainty  \\\n",
       "0 1750-01-01                   3.034                              3.574   \n",
       "1 1750-02-01                   3.083                              3.702   \n",
       "\n",
       "   LandMaxTemperature  LandMaxTemperatureUncertainty  LandMinTemperature  \\\n",
       "0                 NaN                            NaN                 NaN   \n",
       "1                 NaN                            NaN                 NaN   \n",
       "\n",
       "   LandMinTemperatureUncertainty  LandAndOceanAverageTemperature  \\\n",
       "0                            NaN                             NaN   \n",
       "1                            NaN                             NaN   \n",
       "\n",
       "   LandAndOceanAverageTemperatureUncertainty  Year  Month  \n",
       "0                                        NaN  1750      1  \n",
       "1                                        NaN  1750      2  "
      ]
     },
     "execution_count": 323,
     "metadata": {},
     "output_type": "execute_result"
    }
   ],
   "source": [
    "data.head(2)"
   ]
  },
  {
   "cell_type": "code",
   "execution_count": 324,
   "metadata": {},
   "outputs": [
    {
     "data": {
      "text/plain": [
       "array([ 1,  2,  3,  4,  5,  6,  7,  8,  9, 10, 11, 12], dtype=int64)"
      ]
     },
     "execution_count": 324,
     "metadata": {},
     "output_type": "execute_result"
    }
   ],
   "source": [
    "data['Month'].unique()"
   ]
  },
  {
   "cell_type": "code",
   "execution_count": 325,
   "metadata": {},
   "outputs": [],
   "source": [
    "def to_season(month):\n",
    "    \n",
    "    if month>=3 and month<=5:\n",
    "        return 'spring'\n",
    "    elif month>=6 and month<=8:\n",
    "        return'summer'\n",
    "    elif month>=9 and month<=11:\n",
    "        return'autumn'\n",
    "    else:\n",
    "        return'winter'\n",
    "    \n",
    "        \n",
    "    "
   ]
  },
  {
   "cell_type": "code",
   "execution_count": 326,
   "metadata": {},
   "outputs": [],
   "source": [
    "data['Season']=data['Month'].apply(to_season)"
   ]
  },
  {
   "cell_type": "code",
   "execution_count": 327,
   "metadata": {},
   "outputs": [
    {
     "data": {
      "text/html": [
       "<div>\n",
       "<style scoped>\n",
       "    .dataframe tbody tr th:only-of-type {\n",
       "        vertical-align: middle;\n",
       "    }\n",
       "\n",
       "    .dataframe tbody tr th {\n",
       "        vertical-align: top;\n",
       "    }\n",
       "\n",
       "    .dataframe thead th {\n",
       "        text-align: right;\n",
       "    }\n",
       "</style>\n",
       "<table border=\"1\" class=\"dataframe\">\n",
       "  <thead>\n",
       "    <tr style=\"text-align: right;\">\n",
       "      <th></th>\n",
       "      <th>dt</th>\n",
       "      <th>LandAverageTemperature</th>\n",
       "      <th>LandAverageTemperatureUncertainty</th>\n",
       "      <th>LandMaxTemperature</th>\n",
       "      <th>LandMaxTemperatureUncertainty</th>\n",
       "      <th>LandMinTemperature</th>\n",
       "      <th>LandMinTemperatureUncertainty</th>\n",
       "      <th>LandAndOceanAverageTemperature</th>\n",
       "      <th>LandAndOceanAverageTemperatureUncertainty</th>\n",
       "      <th>Year</th>\n",
       "      <th>Month</th>\n",
       "      <th>Season</th>\n",
       "    </tr>\n",
       "  </thead>\n",
       "  <tbody>\n",
       "    <tr>\n",
       "      <th>0</th>\n",
       "      <td>1750-01-01</td>\n",
       "      <td>3.034</td>\n",
       "      <td>3.574</td>\n",
       "      <td>NaN</td>\n",
       "      <td>NaN</td>\n",
       "      <td>NaN</td>\n",
       "      <td>NaN</td>\n",
       "      <td>NaN</td>\n",
       "      <td>NaN</td>\n",
       "      <td>1750</td>\n",
       "      <td>1</td>\n",
       "      <td>winter</td>\n",
       "    </tr>\n",
       "    <tr>\n",
       "      <th>1</th>\n",
       "      <td>1750-02-01</td>\n",
       "      <td>3.083</td>\n",
       "      <td>3.702</td>\n",
       "      <td>NaN</td>\n",
       "      <td>NaN</td>\n",
       "      <td>NaN</td>\n",
       "      <td>NaN</td>\n",
       "      <td>NaN</td>\n",
       "      <td>NaN</td>\n",
       "      <td>1750</td>\n",
       "      <td>2</td>\n",
       "      <td>winter</td>\n",
       "    </tr>\n",
       "    <tr>\n",
       "      <th>2</th>\n",
       "      <td>1750-03-01</td>\n",
       "      <td>5.626</td>\n",
       "      <td>3.076</td>\n",
       "      <td>NaN</td>\n",
       "      <td>NaN</td>\n",
       "      <td>NaN</td>\n",
       "      <td>NaN</td>\n",
       "      <td>NaN</td>\n",
       "      <td>NaN</td>\n",
       "      <td>1750</td>\n",
       "      <td>3</td>\n",
       "      <td>spring</td>\n",
       "    </tr>\n",
       "    <tr>\n",
       "      <th>3</th>\n",
       "      <td>1750-04-01</td>\n",
       "      <td>8.490</td>\n",
       "      <td>2.451</td>\n",
       "      <td>NaN</td>\n",
       "      <td>NaN</td>\n",
       "      <td>NaN</td>\n",
       "      <td>NaN</td>\n",
       "      <td>NaN</td>\n",
       "      <td>NaN</td>\n",
       "      <td>1750</td>\n",
       "      <td>4</td>\n",
       "      <td>spring</td>\n",
       "    </tr>\n",
       "  </tbody>\n",
       "</table>\n",
       "</div>"
      ],
      "text/plain": [
       "          dt  LandAverageTemperature  LandAverageTemperatureUncertainty  \\\n",
       "0 1750-01-01                   3.034                              3.574   \n",
       "1 1750-02-01                   3.083                              3.702   \n",
       "2 1750-03-01                   5.626                              3.076   \n",
       "3 1750-04-01                   8.490                              2.451   \n",
       "\n",
       "   LandMaxTemperature  LandMaxTemperatureUncertainty  LandMinTemperature  \\\n",
       "0                 NaN                            NaN                 NaN   \n",
       "1                 NaN                            NaN                 NaN   \n",
       "2                 NaN                            NaN                 NaN   \n",
       "3                 NaN                            NaN                 NaN   \n",
       "\n",
       "   LandMinTemperatureUncertainty  LandAndOceanAverageTemperature  \\\n",
       "0                            NaN                             NaN   \n",
       "1                            NaN                             NaN   \n",
       "2                            NaN                             NaN   \n",
       "3                            NaN                             NaN   \n",
       "\n",
       "   LandAndOceanAverageTemperatureUncertainty  Year  Month  Season  \n",
       "0                                        NaN  1750      1  winter  \n",
       "1                                        NaN  1750      2  winter  \n",
       "2                                        NaN  1750      3  spring  \n",
       "3                                        NaN  1750      4  spring  "
      ]
     },
     "execution_count": 327,
     "metadata": {},
     "output_type": "execute_result"
    }
   ],
   "source": [
    "data.head(4)"
   ]
  },
  {
   "cell_type": "markdown",
   "metadata": {},
   "source": [
    "Now we will compute season's avg temperature by year. We will create a new dataframe where for each year, we will add seasons avg temperature"
   ]
  },
  {
   "cell_type": "code",
   "execution_count": 328,
   "metadata": {},
   "outputs": [],
   "source": [
    "years=data.Year.unique()"
   ]
  },
  {
   "cell_type": "code",
   "execution_count": 329,
   "metadata": {},
   "outputs": [],
   "source": [
    "spring_season=[]\n",
    "summer_season=[]\n",
    "autumn_season=[]\n",
    "winter_season=[]"
   ]
  },
  {
   "cell_type": "code",
   "execution_count": 330,
   "metadata": {},
   "outputs": [],
   "source": [
    "for year in years:\n",
    "    curr_year=data[data['Year']==year]\n",
    "    spring_season.append(curr_year[curr_year['Season']=='spring']['LandAverageTemperature'].mean())\n",
    "    summer_season.append(curr_year[curr_year['Season']=='summer']['LandAverageTemperature'].mean())\n",
    "    autumn_season.append(curr_year[curr_year['Season']=='autumn']['LandAverageTemperature'].mean())\n",
    "    winter_season.append(curr_year[curr_year['Season']=='winter']['LandAverageTemperature'].mean())"
   ]
  },
  {
   "cell_type": "code",
   "execution_count": 331,
   "metadata": {},
   "outputs": [],
   "source": [
    "seasons_df=pd.DataFrame()"
   ]
  },
  {
   "cell_type": "code",
   "execution_count": 332,
   "metadata": {},
   "outputs": [],
   "source": [
    "seasons_df['Years']=years\n",
    "seasons_df['Spring']=spring_season\n",
    "seasons_df['Summer']=summer_season\n",
    "seasons_df['Autumn']=autumn_season\n",
    "seasons_df['Winter']=winter_season"
   ]
  },
  {
   "cell_type": "code",
   "execution_count": 333,
   "metadata": {},
   "outputs": [
    {
     "data": {
      "text/html": [
       "<div>\n",
       "<style scoped>\n",
       "    .dataframe tbody tr th:only-of-type {\n",
       "        vertical-align: middle;\n",
       "    }\n",
       "\n",
       "    .dataframe tbody tr th {\n",
       "        vertical-align: top;\n",
       "    }\n",
       "\n",
       "    .dataframe thead th {\n",
       "        text-align: right;\n",
       "    }\n",
       "</style>\n",
       "<table border=\"1\" class=\"dataframe\">\n",
       "  <thead>\n",
       "    <tr style=\"text-align: right;\">\n",
       "      <th></th>\n",
       "      <th>Years</th>\n",
       "      <th>Spring</th>\n",
       "      <th>Summer</th>\n",
       "      <th>Autumn</th>\n",
       "      <th>Winter</th>\n",
       "    </tr>\n",
       "  </thead>\n",
       "  <tbody>\n",
       "    <tr>\n",
       "      <th>0</th>\n",
       "      <td>1750</td>\n",
       "      <td>8.563000</td>\n",
       "      <td>14.518333</td>\n",
       "      <td>8.890000</td>\n",
       "      <td>2.963000</td>\n",
       "    </tr>\n",
       "    <tr>\n",
       "      <th>1</th>\n",
       "      <td>1751</td>\n",
       "      <td>6.735000</td>\n",
       "      <td>14.116000</td>\n",
       "      <td>10.673000</td>\n",
       "      <td>1.729000</td>\n",
       "    </tr>\n",
       "    <tr>\n",
       "      <th>2</th>\n",
       "      <td>1752</td>\n",
       "      <td>7.035500</td>\n",
       "      <td>NaN</td>\n",
       "      <td>7.587000</td>\n",
       "      <td>2.717000</td>\n",
       "    </tr>\n",
       "    <tr>\n",
       "      <th>3</th>\n",
       "      <td>1753</td>\n",
       "      <td>8.627333</td>\n",
       "      <td>14.608333</td>\n",
       "      <td>9.212333</td>\n",
       "      <td>1.104333</td>\n",
       "    </tr>\n",
       "    <tr>\n",
       "      <th>4</th>\n",
       "      <td>1754</td>\n",
       "      <td>9.074333</td>\n",
       "      <td>14.208333</td>\n",
       "      <td>8.957333</td>\n",
       "      <td>1.637333</td>\n",
       "    </tr>\n",
       "    <tr>\n",
       "      <th>...</th>\n",
       "      <td>...</td>\n",
       "      <td>...</td>\n",
       "      <td>...</td>\n",
       "      <td>...</td>\n",
       "      <td>...</td>\n",
       "    </tr>\n",
       "    <tr>\n",
       "      <th>261</th>\n",
       "      <td>2011</td>\n",
       "      <td>9.190000</td>\n",
       "      <td>14.954667</td>\n",
       "      <td>10.026000</td>\n",
       "      <td>3.893333</td>\n",
       "    </tr>\n",
       "    <tr>\n",
       "      <th>262</th>\n",
       "      <td>2012</td>\n",
       "      <td>9.429667</td>\n",
       "      <td>14.762667</td>\n",
       "      <td>10.208000</td>\n",
       "      <td>3.629000</td>\n",
       "    </tr>\n",
       "    <tr>\n",
       "      <th>263</th>\n",
       "      <td>2013</td>\n",
       "      <td>9.166667</td>\n",
       "      <td>14.771000</td>\n",
       "      <td>10.278000</td>\n",
       "      <td>4.210333</td>\n",
       "    </tr>\n",
       "    <tr>\n",
       "      <th>264</th>\n",
       "      <td>2014</td>\n",
       "      <td>9.516333</td>\n",
       "      <td>14.694333</td>\n",
       "      <td>10.044667</td>\n",
       "      <td>4.027333</td>\n",
       "    </tr>\n",
       "    <tr>\n",
       "      <th>265</th>\n",
       "      <td>2015</td>\n",
       "      <td>9.455000</td>\n",
       "      <td>14.770333</td>\n",
       "      <td>10.411000</td>\n",
       "      <td>4.687667</td>\n",
       "    </tr>\n",
       "  </tbody>\n",
       "</table>\n",
       "<p>266 rows × 5 columns</p>\n",
       "</div>"
      ],
      "text/plain": [
       "     Years    Spring     Summer     Autumn    Winter\n",
       "0     1750  8.563000  14.518333   8.890000  2.963000\n",
       "1     1751  6.735000  14.116000  10.673000  1.729000\n",
       "2     1752  7.035500        NaN   7.587000  2.717000\n",
       "3     1753  8.627333  14.608333   9.212333  1.104333\n",
       "4     1754  9.074333  14.208333   8.957333  1.637333\n",
       "..     ...       ...        ...        ...       ...\n",
       "261   2011  9.190000  14.954667  10.026000  3.893333\n",
       "262   2012  9.429667  14.762667  10.208000  3.629000\n",
       "263   2013  9.166667  14.771000  10.278000  4.210333\n",
       "264   2014  9.516333  14.694333  10.044667  4.027333\n",
       "265   2015  9.455000  14.770333  10.411000  4.687667\n",
       "\n",
       "[266 rows x 5 columns]"
      ]
     },
     "execution_count": 333,
     "metadata": {},
     "output_type": "execute_result"
    }
   ],
   "source": [
    "seasons_df"
   ]
  },
  {
   "cell_type": "code",
   "execution_count": 334,
   "metadata": {},
   "outputs": [
    {
     "data": {
      "text/plain": [
       "Index(['Years', 'Spring', 'Summer', 'Autumn', 'Winter'], dtype='object')"
      ]
     },
     "execution_count": 334,
     "metadata": {},
     "output_type": "execute_result"
    }
   ],
   "source": [
    "seasons_df.columns"
   ]
  },
  {
   "cell_type": "code",
   "execution_count": 335,
   "metadata": {},
   "outputs": [
    {
     "data": {
      "image/png": "[encoded data removed]",
      "text/plain": [
       "<Figure size 720x576 with 1 Axes>"
      ]
     },
     "metadata": {
      "needs_background": "light"
     },
     "output_type": "display_data"
    }
   ],
   "source": [
    "plt.figure(figsize=(10,8))\n",
    "plt.plot(seasons_df['Years'],seasons_df[['Spring', 'Summer', 'Autumn', 'Winter']])\n",
    "plt.legend(['Spring', 'Summer', 'Autumn', 'Winter'])\n",
    "plt.show()"
   ]
  },
  {
   "cell_type": "markdown",
   "metadata": {},
   "source": [
    "We notice that avg temp  of season is raising. Seasons are getting warmer."
   ]
  },
  {
   "cell_type": "markdown",
   "metadata": {},
   "source": [
    "## Data Preparation"
   ]
  },
  {
   "cell_type": "code",
   "execution_count": 336,
   "metadata": {},
   "outputs": [
    {
     "data": {
      "text/html": [
       "<div>\n",
       "<style scoped>\n",
       "    .dataframe tbody tr th:only-of-type {\n",
       "        vertical-align: middle;\n",
       "    }\n",
       "\n",
       "    .dataframe tbody tr th {\n",
       "        vertical-align: top;\n",
       "    }\n",
       "\n",
       "    .dataframe thead th {\n",
       "        text-align: right;\n",
       "    }\n",
       "</style>\n",
       "<table border=\"1\" class=\"dataframe\">\n",
       "  <thead>\n",
       "    <tr style=\"text-align: right;\">\n",
       "      <th></th>\n",
       "      <th>dt</th>\n",
       "      <th>AverageTemperature</th>\n",
       "      <th>AverageTemperatureUncertainty</th>\n",
       "      <th>City</th>\n",
       "      <th>Country</th>\n",
       "      <th>Latitude</th>\n",
       "      <th>Longitude</th>\n",
       "    </tr>\n",
       "  </thead>\n",
       "  <tbody>\n",
       "    <tr>\n",
       "      <th>0</th>\n",
       "      <td>1743-11-01</td>\n",
       "      <td>6.068</td>\n",
       "      <td>1.737</td>\n",
       "      <td>Århus</td>\n",
       "      <td>Denmark</td>\n",
       "      <td>57.05N</td>\n",
       "      <td>10.33E</td>\n",
       "    </tr>\n",
       "    <tr>\n",
       "      <th>1</th>\n",
       "      <td>1743-12-01</td>\n",
       "      <td>NaN</td>\n",
       "      <td>NaN</td>\n",
       "      <td>Århus</td>\n",
       "      <td>Denmark</td>\n",
       "      <td>57.05N</td>\n",
       "      <td>10.33E</td>\n",
       "    </tr>\n",
       "    <tr>\n",
       "      <th>2</th>\n",
       "      <td>1744-01-01</td>\n",
       "      <td>NaN</td>\n",
       "      <td>NaN</td>\n",
       "      <td>Århus</td>\n",
       "      <td>Denmark</td>\n",
       "      <td>57.05N</td>\n",
       "      <td>10.33E</td>\n",
       "    </tr>\n",
       "    <tr>\n",
       "      <th>3</th>\n",
       "      <td>1744-02-01</td>\n",
       "      <td>NaN</td>\n",
       "      <td>NaN</td>\n",
       "      <td>Århus</td>\n",
       "      <td>Denmark</td>\n",
       "      <td>57.05N</td>\n",
       "      <td>10.33E</td>\n",
       "    </tr>\n",
       "    <tr>\n",
       "      <th>4</th>\n",
       "      <td>1744-03-01</td>\n",
       "      <td>NaN</td>\n",
       "      <td>NaN</td>\n",
       "      <td>Århus</td>\n",
       "      <td>Denmark</td>\n",
       "      <td>57.05N</td>\n",
       "      <td>10.33E</td>\n",
       "    </tr>\n",
       "  </tbody>\n",
       "</table>\n",
       "</div>"
      ],
      "text/plain": [
       "          dt  AverageTemperature  AverageTemperatureUncertainty   City  \\\n",
       "0 1743-11-01               6.068                          1.737  Århus   \n",
       "1 1743-12-01                 NaN                            NaN  Århus   \n",
       "2 1744-01-01                 NaN                            NaN  Århus   \n",
       "3 1744-02-01                 NaN                            NaN  Århus   \n",
       "4 1744-03-01                 NaN                            NaN  Århus   \n",
       "\n",
       "   Country Latitude Longitude  \n",
       "0  Denmark   57.05N    10.33E  \n",
       "1  Denmark   57.05N    10.33E  \n",
       "2  Denmark   57.05N    10.33E  \n",
       "3  Denmark   57.05N    10.33E  \n",
       "4  Denmark   57.05N    10.33E  "
      ]
     },
     "execution_count": 336,
     "metadata": {},
     "output_type": "execute_result"
    }
   ],
   "source": [
    "cities=pd.read_csv('GlobalLandTemperaturesByCity.csv',header=0,parse_dates=[0])\n",
    "cities.head()"
   ]
  },
  {
   "cell_type": "code",
   "execution_count": 337,
   "metadata": {},
   "outputs": [
    {
     "data": {
      "text/plain": [
       "(8599212, 7)"
      ]
     },
     "execution_count": 337,
     "metadata": {},
     "output_type": "execute_result"
    }
   ],
   "source": [
    "cities.shape"
   ]
  },
  {
   "cell_type": "markdown",
   "metadata": {},
   "source": [
    "We will take into consideration sampling as the dataset is huge.\n"
   ]
  },
  {
   "cell_type": "code",
   "execution_count": 338,
   "metadata": {},
   "outputs": [
    {
     "data": {
      "text/plain": [
       "array(['Denmark', 'Turkey', 'Kazakhstan', 'China', 'Spain', 'Germany',\n",
       "       'Nigeria', 'Iran', 'Russia', 'Canada', \"Côte D'Ivoire\",\n",
       "       'United Kingdom', 'Saudi Arabia', 'Japan', 'United States',\n",
       "       'India', 'Benin', 'United Arab Emirates', 'Mexico', 'Venezuela',\n",
       "       'Ghana', 'Ethiopia', 'Australia', 'Yemen', 'Indonesia', 'Morocco',\n",
       "       'Pakistan', 'France', 'Libya', 'Burma', 'Brazil', 'South Africa',\n",
       "       'Syria', 'Egypt', 'Algeria', 'Netherlands', 'Malaysia', 'Portugal',\n",
       "       'Ecuador', 'Italy', 'Uzbekistan', 'Philippines', 'Madagascar',\n",
       "       'Chile', 'Belgium', 'El Salvador', 'Romania', 'Peru', 'Colombia',\n",
       "       'Tanzania', 'Tunisia', 'Turkmenistan', 'Israel', 'Eritrea',\n",
       "       'Paraguay', 'Greece', 'New Zealand', 'Vietnam', 'Cameroon', 'Iraq',\n",
       "       'Afghanistan', 'Argentina', 'Azerbaijan', 'Moldova', 'Mali',\n",
       "       'Congo (Democratic Republic Of The)', 'Thailand',\n",
       "       'Central African Republic', 'Bosnia And Herzegovina', 'Bangladesh',\n",
       "       'Switzerland', 'Equatorial Guinea', 'Cuba', 'Lebanon',\n",
       "       'Mozambique', 'Serbia', 'Angola', 'Somalia', 'Norway', 'Nepal',\n",
       "       'Poland', 'Ukraine', 'Guinea Bissau', 'Malawi', 'Burkina Faso',\n",
       "       'Slovakia', 'Congo', 'Belarus', 'Gambia', 'Czech Republic',\n",
       "       'Hungary', 'Burundi', 'Zimbabwe', 'Bulgaria', 'Haiti',\n",
       "       'Puerto Rico', 'Sri Lanka', 'Nicaragua', 'Zambia', 'Honduras',\n",
       "       'Taiwan', 'Bolivia', 'Guinea', 'Ireland', 'Senegal', 'Latvia',\n",
       "       'Qatar', 'Albania', 'Tajikistan', 'Kenya', 'Guatemala', 'Finland',\n",
       "       'Sierra Leone', 'Sweden', 'Botswana', 'Guyana', 'Austria',\n",
       "       'Uganda', 'Armenia', 'Dominican Republic', 'Jordan', 'Djibouti',\n",
       "       'Sudan', 'Lithuania', 'Rwanda', 'Jamaica', 'Togo', 'Macedonia',\n",
       "       'Cyprus', 'Gabon', 'Slovenia', 'Bahrain', 'Swaziland', 'Niger',\n",
       "       'Lesotho', 'Liberia', 'Uruguay', 'Chad', 'Bahamas', 'Mauritania',\n",
       "       'Panama', 'Suriname', 'Cambodia', 'Montenegro', 'Mauritius',\n",
       "       'Papua New Guinea', 'Iceland', 'Croatia', 'Reunion', 'Oman',\n",
       "       'Costa Rica', 'South Korea', 'Hong Kong', 'Singapore', 'Estonia',\n",
       "       'Georgia', 'Mongolia', 'Laos', 'Namibia'], dtype=object)"
      ]
     },
     "execution_count": 338,
     "metadata": {},
     "output_type": "execute_result"
    }
   ],
   "source": [
    "cities.Country.unique()"
   ]
  },
  {
   "cell_type": "code",
   "execution_count": 339,
   "metadata": {},
   "outputs": [],
   "source": [
    "usa=cities[cities['Country']=='United States']"
   ]
  },
  {
   "cell_type": "code",
   "execution_count": 340,
   "metadata": {},
   "outputs": [
    {
     "data": {
      "text/plain": [
       "array(['Abilene', 'Akron', 'Albuquerque', 'Alexandria', 'Allentown',\n",
       "       'Amarillo', 'Anaheim', 'Anchorage', 'Ann Arbor', 'Antioch',\n",
       "       'Arlington', 'Arvada', 'Atlanta', 'Aurora', 'Austin',\n",
       "       'Bakersfield', 'Baltimore', 'Baton Rouge', 'Beaumont', 'Bellevue',\n",
       "       'Berkeley', 'Birmingham', 'Boston', 'Bridgeport', 'Brownsville',\n",
       "       'Buffalo', 'Burbank', 'Cambridge', 'Cape Coral', 'Carrollton',\n",
       "       'Cary', 'Cedar Rapids', 'Chandler', 'Charleston', 'Charlotte',\n",
       "       'Chattanooga', 'Chesapeake', 'Chicago', 'Chula Vista',\n",
       "       'Cincinnati', 'Clarksville', 'Clearwater', 'Cleveland',\n",
       "       'Colorado Springs', 'Columbia', 'Columbus', 'Concord',\n",
       "       'Coral Springs', 'Corona', 'Corpus Christi', 'Costa Mesa',\n",
       "       'Dallas', 'Dayton', 'Denton', 'Denver', 'Des Moines', 'Detroit',\n",
       "       'Downey', 'Durham', 'East Los Angeles', 'Edison', 'El Monte',\n",
       "       'El Paso', 'Elizabeth', 'Escondido', 'Eugene', 'Evansville',\n",
       "       'Fairfield', 'Fayetteville', 'Flint', 'Fontana', 'Fort Collins',\n",
       "       'Fort Lauderdale', 'Fort Wayne', 'Fort Worth', 'Fremont', 'Fresno',\n",
       "       'Fullerton', 'Gainesville', 'Garden Grove', 'Garland', 'Gilbert',\n",
       "       'Glendale', 'Grand Prairie', 'Grand Rapids', 'Green Bay',\n",
       "       'Greensboro', 'Hampton', 'Hartford', 'Hayward', 'Henderson',\n",
       "       'Hialeah', 'Highlands Ranch', 'Hollywood', 'Houston',\n",
       "       'Huntington Beach', 'Huntsville', 'Independence', 'Indianapolis',\n",
       "       'Inglewood', 'Irvine', 'Irving', 'Jackson', 'Jacksonville',\n",
       "       'Jersey City', 'Joliet', 'Kansas City', 'Killeen', 'Knoxville',\n",
       "       'Lafayette', 'Lakewood', 'Lancaster', 'Lansing', 'Laredo',\n",
       "       'Las Vegas', 'Lexington Fayette', 'Lincoln', 'Little Rock',\n",
       "       'Long Beach', 'Los Angeles', 'Louisville', 'Lowell', 'Lubbock',\n",
       "       'Madison', 'Manchester', 'Memphis', 'Mesa', 'Mesquite', 'Metairie',\n",
       "       'Miami', 'Milwaukee', 'Minneapolis', 'Miramar', 'Mobile',\n",
       "       'Modesto', 'Montgomery', 'Moreno Valley', 'Naperville',\n",
       "       'Nashville', 'New Haven', 'New Orleans', 'New York', 'Newark',\n",
       "       'Newport News', 'Nogales', 'Norfolk', 'Norman', 'North Las Vegas',\n",
       "       'Norwalk', 'Nuevo Laredo', 'Oakland', 'Oceanside', 'Oklahoma City',\n",
       "       'Olathe', 'Omaha', 'Ontario', 'Orange', 'Orlando', 'Overland Park',\n",
       "       'Oxnard', 'Palmdale', 'Paradise', 'Pasadena', 'Paterson',\n",
       "       'Pembroke Pines', 'Peoria', 'Philadelphia', 'Phoenix',\n",
       "       'Pittsburgh', 'Plano', 'Pomona', 'Port Saint Lucie', 'Portland',\n",
       "       'Providence', 'Provo', 'Pueblo', 'Raleigh', 'Rancho Cucamonga',\n",
       "       'Reno', 'Rialto', 'Richardson', 'Richmond', 'Riverside',\n",
       "       'Rochester', 'Rockford', 'Roseville', 'Sacramento', 'Saint Louis',\n",
       "       'Saint Paul', 'Saint Petersburg', 'Salem', 'Salinas',\n",
       "       'Salt Lake City', 'San Antonio', 'San Bernardino', 'San Diego',\n",
       "       'San Francisco', 'San Jose', 'Santa Ana', 'Santa Clara',\n",
       "       'Santa Clarita', 'Santa Rosa', 'Savannah', 'Scottsdale', 'Seattle',\n",
       "       'Shreveport', 'Simi Valley', 'Sioux Falls', 'South Bend',\n",
       "       'Spokane', 'Spring Valley', 'Springfield', 'Stamford',\n",
       "       'Sterling Heights', 'Stockton', 'Sunnyvale', 'Sunrise Manor',\n",
       "       'Syracuse', 'Tacoma', 'Tallahassee', 'Tampa', 'Tempe', 'Thornton',\n",
       "       'Thousand Oaks', 'Toledo', 'Toms River', 'Topeka', 'Torrance',\n",
       "       'Tucson', 'Tulsa', 'Vallejo', 'Vancouver', 'Virginia Beach',\n",
       "       'Visalia', 'Waco', 'Warren', 'Washington', 'Waterbury',\n",
       "       'West Covina', 'West Jordan', 'West Valley City', 'Westminster',\n",
       "       'Wichita', 'Wichita Falls', 'Windsor', 'Winston Salem',\n",
       "       'Worcester', 'Yonkers'], dtype=object)"
      ]
     },
     "execution_count": 340,
     "metadata": {},
     "output_type": "execute_result"
    }
   ],
   "source": [
    "usa.City.unique()"
   ]
  },
  {
   "cell_type": "code",
   "execution_count": 341,
   "metadata": {},
   "outputs": [],
   "source": [
    "usa_cities=['New York','San Francisco','Paradise']"
   ]
  },
  {
   "cell_type": "code",
   "execution_count": 342,
   "metadata": {},
   "outputs": [],
   "source": [
    "my_data=usa[usa['City'].isin(usa_cities)]"
   ]
  },
  {
   "cell_type": "code",
   "execution_count": 343,
   "metadata": {},
   "outputs": [
    {
     "data": {
      "text/html": [
       "<div>\n",
       "<style scoped>\n",
       "    .dataframe tbody tr th:only-of-type {\n",
       "        vertical-align: middle;\n",
       "    }\n",
       "\n",
       "    .dataframe tbody tr th {\n",
       "        vertical-align: top;\n",
       "    }\n",
       "\n",
       "    .dataframe thead th {\n",
       "        text-align: right;\n",
       "    }\n",
       "</style>\n",
       "<table border=\"1\" class=\"dataframe\">\n",
       "  <thead>\n",
       "    <tr style=\"text-align: right;\">\n",
       "      <th></th>\n",
       "      <th>dt</th>\n",
       "      <th>AverageTemperature</th>\n",
       "      <th>AverageTemperatureUncertainty</th>\n",
       "      <th>City</th>\n",
       "      <th>Country</th>\n",
       "      <th>Latitude</th>\n",
       "      <th>Longitude</th>\n",
       "    </tr>\n",
       "  </thead>\n",
       "  <tbody>\n",
       "    <tr>\n",
       "      <th>5203973</th>\n",
       "      <td>1743-11-01</td>\n",
       "      <td>3.264</td>\n",
       "      <td>1.665</td>\n",
       "      <td>New York</td>\n",
       "      <td>United States</td>\n",
       "      <td>40.99N</td>\n",
       "      <td>74.56W</td>\n",
       "    </tr>\n",
       "    <tr>\n",
       "      <th>5203974</th>\n",
       "      <td>1743-12-01</td>\n",
       "      <td>NaN</td>\n",
       "      <td>NaN</td>\n",
       "      <td>New York</td>\n",
       "      <td>United States</td>\n",
       "      <td>40.99N</td>\n",
       "      <td>74.56W</td>\n",
       "    </tr>\n",
       "    <tr>\n",
       "      <th>5203975</th>\n",
       "      <td>1744-01-01</td>\n",
       "      <td>NaN</td>\n",
       "      <td>NaN</td>\n",
       "      <td>New York</td>\n",
       "      <td>United States</td>\n",
       "      <td>40.99N</td>\n",
       "      <td>74.56W</td>\n",
       "    </tr>\n",
       "    <tr>\n",
       "      <th>5203976</th>\n",
       "      <td>1744-02-01</td>\n",
       "      <td>NaN</td>\n",
       "      <td>NaN</td>\n",
       "      <td>New York</td>\n",
       "      <td>United States</td>\n",
       "      <td>40.99N</td>\n",
       "      <td>74.56W</td>\n",
       "    </tr>\n",
       "    <tr>\n",
       "      <th>5203977</th>\n",
       "      <td>1744-03-01</td>\n",
       "      <td>NaN</td>\n",
       "      <td>NaN</td>\n",
       "      <td>New York</td>\n",
       "      <td>United States</td>\n",
       "      <td>40.99N</td>\n",
       "      <td>74.56W</td>\n",
       "    </tr>\n",
       "  </tbody>\n",
       "</table>\n",
       "</div>"
      ],
      "text/plain": [
       "                dt  AverageTemperature  AverageTemperatureUncertainty  \\\n",
       "5203973 1743-11-01               3.264                          1.665   \n",
       "5203974 1743-12-01                 NaN                            NaN   \n",
       "5203975 1744-01-01                 NaN                            NaN   \n",
       "5203976 1744-02-01                 NaN                            NaN   \n",
       "5203977 1744-03-01                 NaN                            NaN   \n",
       "\n",
       "             City        Country Latitude Longitude  \n",
       "5203973  New York  United States   40.99N    74.56W  \n",
       "5203974  New York  United States   40.99N    74.56W  \n",
       "5203975  New York  United States   40.99N    74.56W  \n",
       "5203976  New York  United States   40.99N    74.56W  \n",
       "5203977  New York  United States   40.99N    74.56W  "
      ]
     },
     "execution_count": 343,
     "metadata": {},
     "output_type": "execute_result"
    }
   ],
   "source": [
    "my_data.head()"
   ]
  },
  {
   "cell_type": "code",
   "execution_count": 344,
   "metadata": {},
   "outputs": [
    {
     "data": {
      "text/plain": [
       "dt                                 0\n",
       "AverageTemperature               207\n",
       "AverageTemperatureUncertainty    207\n",
       "City                               0\n",
       "Country                            0\n",
       "Latitude                           0\n",
       "Longitude                          0\n",
       "dtype: int64"
      ]
     },
     "execution_count": 344,
     "metadata": {},
     "output_type": "execute_result"
    }
   ],
   "source": [
    "my_data.isnull().sum()"
   ]
  },
  {
   "cell_type": "code",
   "execution_count": 345,
   "metadata": {},
   "outputs": [
    {
     "name": "stderr",
     "output_type": "stream",
     "text": [
      "<ipython-input-345-73a5110b8ac4>:1: SettingWithCopyWarning: \n",
      "A value is trying to be set on a copy of a slice from a DataFrame\n",
      "\n",
      "See the caveats in the documentation: https://pandas.pydata.org/pandas-docs/stable/user_guide/indexing.html#returning-a-view-versus-a-copy\n",
      "  my_data.dropna(inplace=True)\n"
     ]
    }
   ],
   "source": [
    "my_data.dropna(inplace=True)"
   ]
  },
  {
   "cell_type": "code",
   "execution_count": 346,
   "metadata": {},
   "outputs": [
    {
     "data": {
      "text/plain": [
       "dt                               0\n",
       "AverageTemperature               0\n",
       "AverageTemperatureUncertainty    0\n",
       "City                             0\n",
       "Country                          0\n",
       "Latitude                         0\n",
       "Longitude                        0\n",
       "dtype: int64"
      ]
     },
     "execution_count": 346,
     "metadata": {},
     "output_type": "execute_result"
    }
   ],
   "source": [
    "my_data.isnull().sum()"
   ]
  },
  {
   "cell_type": "code",
   "execution_count": 347,
   "metadata": {},
   "outputs": [],
   "source": [
    "my_data=my_data.set_index('dt')"
   ]
  },
  {
   "cell_type": "markdown",
   "metadata": {},
   "source": [
    "### Seasonality (mean&variance of data NOT constant)"
   ]
  },
  {
   "cell_type": "code",
   "execution_count": 348,
   "metadata": {},
   "outputs": [
    {
     "data": {
      "text/html": [
       "<div>\n",
       "<style scoped>\n",
       "    .dataframe tbody tr th:only-of-type {\n",
       "        vertical-align: middle;\n",
       "    }\n",
       "\n",
       "    .dataframe tbody tr th {\n",
       "        vertical-align: top;\n",
       "    }\n",
       "\n",
       "    .dataframe thead th {\n",
       "        text-align: right;\n",
       "    }\n",
       "</style>\n",
       "<table border=\"1\" class=\"dataframe\">\n",
       "  <thead>\n",
       "    <tr style=\"text-align: right;\">\n",
       "      <th></th>\n",
       "      <th>AverageTemperature</th>\n",
       "      <th>AverageTemperatureUncertainty</th>\n",
       "      <th>City</th>\n",
       "      <th>Country</th>\n",
       "      <th>Latitude</th>\n",
       "      <th>Longitude</th>\n",
       "    </tr>\n",
       "    <tr>\n",
       "      <th>dt</th>\n",
       "      <th></th>\n",
       "      <th></th>\n",
       "      <th></th>\n",
       "      <th></th>\n",
       "      <th></th>\n",
       "      <th></th>\n",
       "    </tr>\n",
       "  </thead>\n",
       "  <tbody>\n",
       "    <tr>\n",
       "      <th>1743-11-01</th>\n",
       "      <td>3.264</td>\n",
       "      <td>1.665</td>\n",
       "      <td>New York</td>\n",
       "      <td>United States</td>\n",
       "      <td>40.99N</td>\n",
       "      <td>74.56W</td>\n",
       "    </tr>\n",
       "    <tr>\n",
       "      <th>1744-04-01</th>\n",
       "      <td>9.788</td>\n",
       "      <td>2.151</td>\n",
       "      <td>New York</td>\n",
       "      <td>United States</td>\n",
       "      <td>40.99N</td>\n",
       "      <td>74.56W</td>\n",
       "    </tr>\n",
       "  </tbody>\n",
       "</table>\n",
       "</div>"
      ],
      "text/plain": [
       "            AverageTemperature  AverageTemperatureUncertainty      City  \\\n",
       "dt                                                                        \n",
       "1743-11-01               3.264                          1.665  New York   \n",
       "1744-04-01               9.788                          2.151  New York   \n",
       "\n",
       "                  Country Latitude Longitude  \n",
       "dt                                            \n",
       "1743-11-01  United States   40.99N    74.56W  \n",
       "1744-04-01  United States   40.99N    74.56W  "
      ]
     },
     "execution_count": 348,
     "metadata": {},
     "output_type": "execute_result"
    }
   ],
   "source": [
    "my_data.head(2)"
   ]
  },
  {
   "cell_type": "code",
   "execution_count": 349,
   "metadata": {},
   "outputs": [],
   "source": [
    "my_data['Year']=my_data.index.year"
   ]
  },
  {
   "cell_type": "code",
   "execution_count": 350,
   "metadata": {},
   "outputs": [],
   "source": [
    "my_data['Month']=my_data.index.month"
   ]
  },
  {
   "cell_type": "code",
   "execution_count": 351,
   "metadata": {},
   "outputs": [
    {
     "data": {
      "text/html": [
       "<div>\n",
       "<style scoped>\n",
       "    .dataframe tbody tr th:only-of-type {\n",
       "        vertical-align: middle;\n",
       "    }\n",
       "\n",
       "    .dataframe tbody tr th {\n",
       "        vertical-align: top;\n",
       "    }\n",
       "\n",
       "    .dataframe thead th {\n",
       "        text-align: right;\n",
       "    }\n",
       "</style>\n",
       "<table border=\"1\" class=\"dataframe\">\n",
       "  <thead>\n",
       "    <tr style=\"text-align: right;\">\n",
       "      <th></th>\n",
       "      <th>AverageTemperature</th>\n",
       "      <th>AverageTemperatureUncertainty</th>\n",
       "      <th>City</th>\n",
       "      <th>Country</th>\n",
       "      <th>Latitude</th>\n",
       "      <th>Longitude</th>\n",
       "      <th>Year</th>\n",
       "      <th>Month</th>\n",
       "    </tr>\n",
       "    <tr>\n",
       "      <th>dt</th>\n",
       "      <th></th>\n",
       "      <th></th>\n",
       "      <th></th>\n",
       "      <th></th>\n",
       "      <th></th>\n",
       "      <th></th>\n",
       "      <th></th>\n",
       "      <th></th>\n",
       "    </tr>\n",
       "  </thead>\n",
       "  <tbody>\n",
       "    <tr>\n",
       "      <th>1743-11-01</th>\n",
       "      <td>3.264</td>\n",
       "      <td>1.665</td>\n",
       "      <td>New York</td>\n",
       "      <td>United States</td>\n",
       "      <td>40.99N</td>\n",
       "      <td>74.56W</td>\n",
       "      <td>1743</td>\n",
       "      <td>11</td>\n",
       "    </tr>\n",
       "    <tr>\n",
       "      <th>1744-04-01</th>\n",
       "      <td>9.788</td>\n",
       "      <td>2.151</td>\n",
       "      <td>New York</td>\n",
       "      <td>United States</td>\n",
       "      <td>40.99N</td>\n",
       "      <td>74.56W</td>\n",
       "      <td>1744</td>\n",
       "      <td>4</td>\n",
       "    </tr>\n",
       "    <tr>\n",
       "      <th>1744-05-01</th>\n",
       "      <td>15.708</td>\n",
       "      <td>1.506</td>\n",
       "      <td>New York</td>\n",
       "      <td>United States</td>\n",
       "      <td>40.99N</td>\n",
       "      <td>74.56W</td>\n",
       "      <td>1744</td>\n",
       "      <td>5</td>\n",
       "    </tr>\n",
       "  </tbody>\n",
       "</table>\n",
       "</div>"
      ],
      "text/plain": [
       "            AverageTemperature  AverageTemperatureUncertainty      City  \\\n",
       "dt                                                                        \n",
       "1743-11-01               3.264                          1.665  New York   \n",
       "1744-04-01               9.788                          2.151  New York   \n",
       "1744-05-01              15.708                          1.506  New York   \n",
       "\n",
       "                  Country Latitude Longitude  Year  Month  \n",
       "dt                                                         \n",
       "1743-11-01  United States   40.99N    74.56W  1743     11  \n",
       "1744-04-01  United States   40.99N    74.56W  1744      4  \n",
       "1744-05-01  United States   40.99N    74.56W  1744      5  "
      ]
     },
     "execution_count": 351,
     "metadata": {},
     "output_type": "execute_result"
    }
   ],
   "source": [
    "my_data.head(3)"
   ]
  },
  {
   "cell_type": "code",
   "execution_count": 352,
   "metadata": {},
   "outputs": [],
   "source": [
    "pivot=my_data.pivot_table(values='AverageTemperature',index='Month',columns='Year')"
   ]
  },
  {
   "cell_type": "code",
   "execution_count": 353,
   "metadata": {},
   "outputs": [
    {
     "data": {
      "text/html": [
       "<div>\n",
       "<style scoped>\n",
       "    .dataframe tbody tr th:only-of-type {\n",
       "        vertical-align: middle;\n",
       "    }\n",
       "\n",
       "    .dataframe tbody tr th {\n",
       "        vertical-align: top;\n",
       "    }\n",
       "\n",
       "    .dataframe thead th {\n",
       "        text-align: right;\n",
       "    }\n",
       "</style>\n",
       "<table border=\"1\" class=\"dataframe\">\n",
       "  <thead>\n",
       "    <tr style=\"text-align: right;\">\n",
       "      <th>Year</th>\n",
       "      <th>1743</th>\n",
       "      <th>1744</th>\n",
       "      <th>1745</th>\n",
       "      <th>1750</th>\n",
       "      <th>1751</th>\n",
       "      <th>1752</th>\n",
       "      <th>1753</th>\n",
       "      <th>1754</th>\n",
       "      <th>1755</th>\n",
       "      <th>1756</th>\n",
       "      <th>...</th>\n",
       "      <th>2004</th>\n",
       "      <th>2005</th>\n",
       "      <th>2006</th>\n",
       "      <th>2007</th>\n",
       "      <th>2008</th>\n",
       "      <th>2009</th>\n",
       "      <th>2010</th>\n",
       "      <th>2011</th>\n",
       "      <th>2012</th>\n",
       "      <th>2013</th>\n",
       "    </tr>\n",
       "    <tr>\n",
       "      <th>Month</th>\n",
       "      <th></th>\n",
       "      <th></th>\n",
       "      <th></th>\n",
       "      <th></th>\n",
       "      <th></th>\n",
       "      <th></th>\n",
       "      <th></th>\n",
       "      <th></th>\n",
       "      <th></th>\n",
       "      <th></th>\n",
       "      <th></th>\n",
       "      <th></th>\n",
       "      <th></th>\n",
       "      <th></th>\n",
       "      <th></th>\n",
       "      <th></th>\n",
       "      <th></th>\n",
       "      <th></th>\n",
       "      <th></th>\n",
       "      <th></th>\n",
       "      <th></th>\n",
       "    </tr>\n",
       "  </thead>\n",
       "  <tbody>\n",
       "    <tr>\n",
       "      <th>1</th>\n",
       "      <td>NaN</td>\n",
       "      <td>NaN</td>\n",
       "      <td>-2.363</td>\n",
       "      <td>-4.310</td>\n",
       "      <td>-3.591</td>\n",
       "      <td>-7.588</td>\n",
       "      <td>-3.122</td>\n",
       "      <td>-2.252</td>\n",
       "      <td>-3.193</td>\n",
       "      <td>-1.985</td>\n",
       "      <td>...</td>\n",
       "      <td>3.059333</td>\n",
       "      <td>4.283667</td>\n",
       "      <td>6.376333</td>\n",
       "      <td>4.553667</td>\n",
       "      <td>4.209000</td>\n",
       "      <td>4.340333</td>\n",
       "      <td>4.643333</td>\n",
       "      <td>3.954000</td>\n",
       "      <td>6.002333</td>\n",
       "      <td>4.229000</td>\n",
       "    </tr>\n",
       "    <tr>\n",
       "      <th>2</th>\n",
       "      <td>NaN</td>\n",
       "      <td>NaN</td>\n",
       "      <td>-2.671</td>\n",
       "      <td>-2.719</td>\n",
       "      <td>-2.051</td>\n",
       "      <td>NaN</td>\n",
       "      <td>-1.467</td>\n",
       "      <td>-2.583</td>\n",
       "      <td>-1.802</td>\n",
       "      <td>0.259</td>\n",
       "      <td>...</td>\n",
       "      <td>5.406333</td>\n",
       "      <td>6.722667</td>\n",
       "      <td>6.861333</td>\n",
       "      <td>5.241333</td>\n",
       "      <td>6.099000</td>\n",
       "      <td>6.071333</td>\n",
       "      <td>6.186000</td>\n",
       "      <td>5.303000</td>\n",
       "      <td>7.503333</td>\n",
       "      <td>5.623000</td>\n",
       "    </tr>\n",
       "    <tr>\n",
       "      <th>3</th>\n",
       "      <td>NaN</td>\n",
       "      <td>NaN</td>\n",
       "      <td>1.363</td>\n",
       "      <td>2.773</td>\n",
       "      <td>3.256</td>\n",
       "      <td>3.322</td>\n",
       "      <td>4.207</td>\n",
       "      <td>2.728</td>\n",
       "      <td>1.112</td>\n",
       "      <td>NaN</td>\n",
       "      <td>...</td>\n",
       "      <td>12.326333</td>\n",
       "      <td>9.024667</td>\n",
       "      <td>7.859333</td>\n",
       "      <td>10.694667</td>\n",
       "      <td>9.618667</td>\n",
       "      <td>9.329333</td>\n",
       "      <td>10.216333</td>\n",
       "      <td>9.327333</td>\n",
       "      <td>11.080667</td>\n",
       "      <td>10.384667</td>\n",
       "    </tr>\n",
       "    <tr>\n",
       "      <th>4</th>\n",
       "      <td>NaN</td>\n",
       "      <td>9.788</td>\n",
       "      <td>8.209</td>\n",
       "      <td>8.848</td>\n",
       "      <td>7.992</td>\n",
       "      <td>7.402</td>\n",
       "      <td>8.099</td>\n",
       "      <td>NaN</td>\n",
       "      <td>8.714</td>\n",
       "      <td>NaN</td>\n",
       "      <td>...</td>\n",
       "      <td>14.244667</td>\n",
       "      <td>13.040333</td>\n",
       "      <td>13.234000</td>\n",
       "      <td>13.364667</td>\n",
       "      <td>13.594000</td>\n",
       "      <td>13.324333</td>\n",
       "      <td>12.952000</td>\n",
       "      <td>13.255333</td>\n",
       "      <td>14.018667</td>\n",
       "      <td>14.612667</td>\n",
       "    </tr>\n",
       "    <tr>\n",
       "      <th>5</th>\n",
       "      <td>NaN</td>\n",
       "      <td>15.708</td>\n",
       "      <td>NaN</td>\n",
       "      <td>15.411</td>\n",
       "      <td>NaN</td>\n",
       "      <td>NaN</td>\n",
       "      <td>15.330</td>\n",
       "      <td>NaN</td>\n",
       "      <td>15.238</td>\n",
       "      <td>NaN</td>\n",
       "      <td>...</td>\n",
       "      <td>19.157000</td>\n",
       "      <td>17.471000</td>\n",
       "      <td>18.968667</td>\n",
       "      <td>18.931000</td>\n",
       "      <td>16.874667</td>\n",
       "      <td>19.331000</td>\n",
       "      <td>16.790000</td>\n",
       "      <td>16.765333</td>\n",
       "      <td>19.390000</td>\n",
       "      <td>18.498000</td>\n",
       "    </tr>\n",
       "    <tr>\n",
       "      <th>6</th>\n",
       "      <td>NaN</td>\n",
       "      <td>21.210</td>\n",
       "      <td>NaN</td>\n",
       "      <td>19.017</td>\n",
       "      <td>20.724</td>\n",
       "      <td>NaN</td>\n",
       "      <td>20.820</td>\n",
       "      <td>20.075</td>\n",
       "      <td>19.964</td>\n",
       "      <td>20.488</td>\n",
       "      <td>...</td>\n",
       "      <td>22.115333</td>\n",
       "      <td>21.952000</td>\n",
       "      <td>23.259667</td>\n",
       "      <td>22.640333</td>\n",
       "      <td>23.102333</td>\n",
       "      <td>20.911667</td>\n",
       "      <td>22.649333</td>\n",
       "      <td>21.557333</td>\n",
       "      <td>22.309667</td>\n",
       "      <td>23.383333</td>\n",
       "    </tr>\n",
       "    <tr>\n",
       "      <th>7</th>\n",
       "      <td>NaN</td>\n",
       "      <td>22.207</td>\n",
       "      <td>NaN</td>\n",
       "      <td>24.203</td>\n",
       "      <td>22.668</td>\n",
       "      <td>NaN</td>\n",
       "      <td>22.524</td>\n",
       "      <td>22.503</td>\n",
       "      <td>NaN</td>\n",
       "      <td>22.452</td>\n",
       "      <td>...</td>\n",
       "      <td>24.287333</td>\n",
       "      <td>25.632333</td>\n",
       "      <td>26.143000</td>\n",
       "      <td>24.838333</td>\n",
       "      <td>25.049667</td>\n",
       "      <td>24.234333</td>\n",
       "      <td>25.366333</td>\n",
       "      <td>24.632000</td>\n",
       "      <td>24.615000</td>\n",
       "      <td>25.692333</td>\n",
       "    </tr>\n",
       "    <tr>\n",
       "      <th>8</th>\n",
       "      <td>NaN</td>\n",
       "      <td>NaN</td>\n",
       "      <td>NaN</td>\n",
       "      <td>22.135</td>\n",
       "      <td>21.547</td>\n",
       "      <td>NaN</td>\n",
       "      <td>21.324</td>\n",
       "      <td>21.461</td>\n",
       "      <td>NaN</td>\n",
       "      <td>21.208</td>\n",
       "      <td>...</td>\n",
       "      <td>23.812333</td>\n",
       "      <td>24.381000</td>\n",
       "      <td>23.814333</td>\n",
       "      <td>24.307333</td>\n",
       "      <td>24.127333</td>\n",
       "      <td>24.213333</td>\n",
       "      <td>23.608000</td>\n",
       "      <td>24.049667</td>\n",
       "      <td>24.597667</td>\n",
       "      <td>23.187667</td>\n",
       "    </tr>\n",
       "    <tr>\n",
       "      <th>9</th>\n",
       "      <td>NaN</td>\n",
       "      <td>14.922</td>\n",
       "      <td>NaN</td>\n",
       "      <td>17.445</td>\n",
       "      <td>15.812</td>\n",
       "      <td>NaN</td>\n",
       "      <td>15.548</td>\n",
       "      <td>16.281</td>\n",
       "      <td>16.137</td>\n",
       "      <td>17.345</td>\n",
       "      <td>...</td>\n",
       "      <td>21.286333</td>\n",
       "      <td>20.734667</td>\n",
       "      <td>20.076667</td>\n",
       "      <td>20.891333</td>\n",
       "      <td>21.618000</td>\n",
       "      <td>21.661333</td>\n",
       "      <td>21.792000</td>\n",
       "      <td>21.946000</td>\n",
       "      <td>21.300000</td>\n",
       "      <td>21.196000</td>\n",
       "    </tr>\n",
       "    <tr>\n",
       "      <th>10</th>\n",
       "      <td>NaN</td>\n",
       "      <td>8.968</td>\n",
       "      <td>NaN</td>\n",
       "      <td>9.076</td>\n",
       "      <td>NaN</td>\n",
       "      <td>9.391</td>\n",
       "      <td>10.479</td>\n",
       "      <td>11.477</td>\n",
       "      <td>8.669</td>\n",
       "      <td>9.662</td>\n",
       "      <td>...</td>\n",
       "      <td>14.537667</td>\n",
       "      <td>15.495667</td>\n",
       "      <td>14.535667</td>\n",
       "      <td>16.109667</td>\n",
       "      <td>15.475333</td>\n",
       "      <td>14.254000</td>\n",
       "      <td>15.621667</td>\n",
       "      <td>15.969333</td>\n",
       "      <td>16.273333</td>\n",
       "      <td>NaN</td>\n",
       "    </tr>\n",
       "    <tr>\n",
       "      <th>11</th>\n",
       "      <td>3.264</td>\n",
       "      <td>3.161</td>\n",
       "      <td>NaN</td>\n",
       "      <td>NaN</td>\n",
       "      <td>NaN</td>\n",
       "      <td>5.831</td>\n",
       "      <td>3.363</td>\n",
       "      <td>NaN</td>\n",
       "      <td>3.599</td>\n",
       "      <td>2.894</td>\n",
       "      <td>...</td>\n",
       "      <td>9.243333</td>\n",
       "      <td>11.089333</td>\n",
       "      <td>11.042667</td>\n",
       "      <td>10.554000</td>\n",
       "      <td>10.812000</td>\n",
       "      <td>11.003000</td>\n",
       "      <td>9.480333</td>\n",
       "      <td>9.796000</td>\n",
       "      <td>10.180667</td>\n",
       "      <td>NaN</td>\n",
       "    </tr>\n",
       "    <tr>\n",
       "      <th>12</th>\n",
       "      <td>NaN</td>\n",
       "      <td>-2.681</td>\n",
       "      <td>NaN</td>\n",
       "      <td>-1.093</td>\n",
       "      <td>NaN</td>\n",
       "      <td>-1.471</td>\n",
       "      <td>-2.854</td>\n",
       "      <td>-0.752</td>\n",
       "      <td>-2.381</td>\n",
       "      <td>-2.900</td>\n",
       "      <td>...</td>\n",
       "      <td>5.438000</td>\n",
       "      <td>5.365667</td>\n",
       "      <td>6.444667</td>\n",
       "      <td>4.328333</td>\n",
       "      <td>4.605667</td>\n",
       "      <td>4.139333</td>\n",
       "      <td>5.407000</td>\n",
       "      <td>5.906000</td>\n",
       "      <td>6.075667</td>\n",
       "      <td>NaN</td>\n",
       "    </tr>\n",
       "  </tbody>\n",
       "</table>\n",
       "<p>12 rows × 266 columns</p>\n",
       "</div>"
      ],
      "text/plain": [
       "Year    1743    1744   1745    1750    1751   1752    1753    1754    1755  \\\n",
       "Month                                                                        \n",
       "1        NaN     NaN -2.363  -4.310  -3.591 -7.588  -3.122  -2.252  -3.193   \n",
       "2        NaN     NaN -2.671  -2.719  -2.051    NaN  -1.467  -2.583  -1.802   \n",
       "3        NaN     NaN  1.363   2.773   3.256  3.322   4.207   2.728   1.112   \n",
       "4        NaN   9.788  8.209   8.848   7.992  7.402   8.099     NaN   8.714   \n",
       "5        NaN  15.708    NaN  15.411     NaN    NaN  15.330     NaN  15.238   \n",
       "6        NaN  21.210    NaN  19.017  20.724    NaN  20.820  20.075  19.964   \n",
       "7        NaN  22.207    NaN  24.203  22.668    NaN  22.524  22.503     NaN   \n",
       "8        NaN     NaN    NaN  22.135  21.547    NaN  21.324  21.461     NaN   \n",
       "9        NaN  14.922    NaN  17.445  15.812    NaN  15.548  16.281  16.137   \n",
       "10       NaN   8.968    NaN   9.076     NaN  9.391  10.479  11.477   8.669   \n",
       "11     3.264   3.161    NaN     NaN     NaN  5.831   3.363     NaN   3.599   \n",
       "12       NaN  -2.681    NaN  -1.093     NaN -1.471  -2.854  -0.752  -2.381   \n",
       "\n",
       "Year     1756  ...       2004       2005       2006       2007       2008  \\\n",
       "Month          ...                                                          \n",
       "1      -1.985  ...   3.059333   4.283667   6.376333   4.553667   4.209000   \n",
       "2       0.259  ...   5.406333   6.722667   6.861333   5.241333   6.099000   \n",
       "3         NaN  ...  12.326333   9.024667   7.859333  10.694667   9.618667   \n",
       "4         NaN  ...  14.244667  13.040333  13.234000  13.364667  13.594000   \n",
       "5         NaN  ...  19.157000  17.471000  18.968667  18.931000  16.874667   \n",
       "6      20.488  ...  22.115333  21.952000  23.259667  22.640333  23.102333   \n",
       "7      22.452  ...  24.287333  25.632333  26.143000  24.838333  25.049667   \n",
       "8      21.208  ...  23.812333  24.381000  23.814333  24.307333  24.127333   \n",
       "9      17.345  ...  21.286333  20.734667  20.076667  20.891333  21.618000   \n",
       "10      9.662  ...  14.537667  15.495667  14.535667  16.109667  15.475333   \n",
       "11      2.894  ...   9.243333  11.089333  11.042667  10.554000  10.812000   \n",
       "12     -2.900  ...   5.438000   5.365667   6.444667   4.328333   4.605667   \n",
       "\n",
       "Year        2009       2010       2011       2012       2013  \n",
       "Month                                                         \n",
       "1       4.340333   4.643333   3.954000   6.002333   4.229000  \n",
       "2       6.071333   6.186000   5.303000   7.503333   5.623000  \n",
       "3       9.329333  10.216333   9.327333  11.080667  10.384667  \n",
       "4      13.324333  12.952000  13.255333  14.018667  14.612667  \n",
       "5      19.331000  16.790000  16.765333  19.390000  18.498000  \n",
       "6      20.911667  22.649333  21.557333  22.309667  23.383333  \n",
       "7      24.234333  25.366333  24.632000  24.615000  25.692333  \n",
       "8      24.213333  23.608000  24.049667  24.597667  23.187667  \n",
       "9      21.661333  21.792000  21.946000  21.300000  21.196000  \n",
       "10     14.254000  15.621667  15.969333  16.273333        NaN  \n",
       "11     11.003000   9.480333   9.796000  10.180667        NaN  \n",
       "12      4.139333   5.407000   5.906000   6.075667        NaN  \n",
       "\n",
       "[12 rows x 266 columns]"
      ]
     },
     "execution_count": 353,
     "metadata": {},
     "output_type": "execute_result"
    }
   ],
   "source": [
    "pivot"
   ]
  },
  {
   "cell_type": "code",
   "execution_count": 354,
   "metadata": {},
   "outputs": [
    {
     "data": {
      "text/plain": [
       "Text(0, 0.5, 'Temperatures')"
      ]
     },
     "execution_count": 354,
     "metadata": {},
     "output_type": "execute_result"
    },
    {
     "data": {
      "text/plain": [
       "<Figure size 1440x648 with 0 Axes>"
      ]
     },
     "metadata": {},
     "output_type": "display_data"
    },
    {
     "data": {
      "image/png": "[encoded data removed]",
      "text/plain": [
       "<Figure size 432x288 with 1 Axes>"
      ]
     },
     "metadata": {
      "needs_background": "light"
     },
     "output_type": "display_data"
    }
   ],
   "source": [
    "plt.figure(figsize=(20,9))\n",
    "pivot.plot()\n",
    "plt.legend().remove()\n",
    "plt.xlabel('Month')\n",
    "plt.ylabel('Temperatures')"
   ]
  },
  {
   "cell_type": "markdown",
   "metadata": {},
   "source": [
    "We can notice seasonality in the figure above. Temperatures for each month seem to follow a similiar trend also.<br>\n",
    "So from visualization we can notice data being not stationary.Another way is by applying statistical test i.e addfuller."
   ]
  },
  {
   "cell_type": "code",
   "execution_count": 355,
   "metadata": {},
   "outputs": [
    {
     "data": {
      "text/plain": [
       "(-1.7401725372091708,\n",
       " 0.41054220087920834,\n",
       " 35,\n",
       " 7118,\n",
       " {'1%': -3.4312690306005167,\n",
       "  '5%': -2.8619461387496887,\n",
       "  '10%': -2.5669861835674803},\n",
       " 28934.64725597252)"
      ]
     },
     "execution_count": 355,
     "metadata": {},
     "output_type": "execute_result"
    }
   ],
   "source": [
    "adfuller(my_data['AverageTemperature'])"
   ]
  },
  {
   "cell_type": "code",
   "execution_count": 356,
   "metadata": {},
   "outputs": [],
   "source": [
    "def adfuller_test(data):\n",
    "    result=adfuller(data)\n",
    "    labels=['AD statistic','Pval','lags','nr_obv']\n",
    "    for value,label in zip(result,labels):\n",
    "        print(label + ' :' + str(value))\n",
    "    if result[1] <=0.05:\n",
    "        print(\"Reject the null hypothesis, data is stationary\")\n",
    "    else:\n",
    "        print(\"Fail to reject the null hypothesis, data is not stationary\")"
   ]
  },
  {
   "cell_type": "code",
   "execution_count": 357,
   "metadata": {},
   "outputs": [
    {
     "name": "stdout",
     "output_type": "stream",
     "text": [
      "AD statistic :-1.7401725372091708\n",
      "Pval :0.41054220087920834\n",
      "lags :35\n",
      "nr_obv :7118\n",
      "Fail to reject the null hypothesis, data is not stationary\n"
     ]
    }
   ],
   "source": [
    "adfuller_test(my_data['AverageTemperature'])"
   ]
  },
  {
   "cell_type": "markdown",
   "metadata": {},
   "source": [
    "We have noticed earlier that our data has yearly seasonality. hence we shift the values by 12."
   ]
  },
  {
   "cell_type": "code",
   "execution_count": 358,
   "metadata": {},
   "outputs": [
    {
     "data": {
      "text/html": [
       "<div>\n",
       "<style scoped>\n",
       "    .dataframe tbody tr th:only-of-type {\n",
       "        vertical-align: middle;\n",
       "    }\n",
       "\n",
       "    .dataframe tbody tr th {\n",
       "        vertical-align: top;\n",
       "    }\n",
       "\n",
       "    .dataframe thead th {\n",
       "        text-align: right;\n",
       "    }\n",
       "</style>\n",
       "<table border=\"1\" class=\"dataframe\">\n",
       "  <thead>\n",
       "    <tr style=\"text-align: right;\">\n",
       "      <th></th>\n",
       "      <th>AverageTemperature</th>\n",
       "      <th>AverageTemperatureUncertainty</th>\n",
       "      <th>City</th>\n",
       "      <th>Country</th>\n",
       "      <th>Latitude</th>\n",
       "      <th>Longitude</th>\n",
       "      <th>Year</th>\n",
       "      <th>Month</th>\n",
       "    </tr>\n",
       "    <tr>\n",
       "      <th>dt</th>\n",
       "      <th></th>\n",
       "      <th></th>\n",
       "      <th></th>\n",
       "      <th></th>\n",
       "      <th></th>\n",
       "      <th></th>\n",
       "      <th></th>\n",
       "      <th></th>\n",
       "    </tr>\n",
       "  </thead>\n",
       "  <tbody>\n",
       "    <tr>\n",
       "      <th>1743-11-01</th>\n",
       "      <td>3.264</td>\n",
       "      <td>1.665</td>\n",
       "      <td>New York</td>\n",
       "      <td>United States</td>\n",
       "      <td>40.99N</td>\n",
       "      <td>74.56W</td>\n",
       "      <td>1743</td>\n",
       "      <td>11</td>\n",
       "    </tr>\n",
       "    <tr>\n",
       "      <th>1744-04-01</th>\n",
       "      <td>9.788</td>\n",
       "      <td>2.151</td>\n",
       "      <td>New York</td>\n",
       "      <td>United States</td>\n",
       "      <td>40.99N</td>\n",
       "      <td>74.56W</td>\n",
       "      <td>1744</td>\n",
       "      <td>4</td>\n",
       "    </tr>\n",
       "    <tr>\n",
       "      <th>1744-05-01</th>\n",
       "      <td>15.708</td>\n",
       "      <td>1.506</td>\n",
       "      <td>New York</td>\n",
       "      <td>United States</td>\n",
       "      <td>40.99N</td>\n",
       "      <td>74.56W</td>\n",
       "      <td>1744</td>\n",
       "      <td>5</td>\n",
       "    </tr>\n",
       "  </tbody>\n",
       "</table>\n",
       "</div>"
      ],
      "text/plain": [
       "            AverageTemperature  AverageTemperatureUncertainty      City  \\\n",
       "dt                                                                        \n",
       "1743-11-01               3.264                          1.665  New York   \n",
       "1744-04-01               9.788                          2.151  New York   \n",
       "1744-05-01              15.708                          1.506  New York   \n",
       "\n",
       "                  Country Latitude Longitude  Year  Month  \n",
       "dt                                                         \n",
       "1743-11-01  United States   40.99N    74.56W  1743     11  \n",
       "1744-04-01  United States   40.99N    74.56W  1744      4  \n",
       "1744-05-01  United States   40.99N    74.56W  1744      5  "
      ]
     },
     "execution_count": 358,
     "metadata": {},
     "output_type": "execute_result"
    }
   ],
   "source": [
    "my_data.head(3)"
   ]
  },
  {
   "cell_type": "code",
   "execution_count": 359,
   "metadata": {},
   "outputs": [],
   "source": [
    "data_differenciated=my_data[['AverageTemperature','Month']]"
   ]
  },
  {
   "cell_type": "code",
   "execution_count": 360,
   "metadata": {},
   "outputs": [
    {
     "name": "stderr",
     "output_type": "stream",
     "text": [
      "<ipython-input-360-9cb2cf767a21>:1: SettingWithCopyWarning: \n",
      "A value is trying to be set on a copy of a slice from a DataFrame.\n",
      "Try using .loc[row_indexer,col_indexer] = value instead\n",
      "\n",
      "See the caveats in the documentation: https://pandas.pydata.org/pandas-docs/stable/user_guide/indexing.html#returning-a-view-versus-a-copy\n",
      "  data_differenciated['diff_temp']=data_differenciated['AverageTemperature']-data_differenciated['AverageTemperature'].shift(12)\n"
     ]
    }
   ],
   "source": [
    "data_differenciated['diff_temp']=data_differenciated['AverageTemperature']-data_differenciated['AverageTemperature'].shift(12)"
   ]
  },
  {
   "cell_type": "code",
   "execution_count": 361,
   "metadata": {},
   "outputs": [
    {
     "data": {
      "text/html": [
       "<div>\n",
       "<style scoped>\n",
       "    .dataframe tbody tr th:only-of-type {\n",
       "        vertical-align: middle;\n",
       "    }\n",
       "\n",
       "    .dataframe tbody tr th {\n",
       "        vertical-align: top;\n",
       "    }\n",
       "\n",
       "    .dataframe thead th {\n",
       "        text-align: right;\n",
       "    }\n",
       "</style>\n",
       "<table border=\"1\" class=\"dataframe\">\n",
       "  <thead>\n",
       "    <tr style=\"text-align: right;\">\n",
       "      <th></th>\n",
       "      <th>AverageTemperature</th>\n",
       "      <th>Month</th>\n",
       "      <th>diff_temp</th>\n",
       "    </tr>\n",
       "    <tr>\n",
       "      <th>dt</th>\n",
       "      <th></th>\n",
       "      <th></th>\n",
       "      <th></th>\n",
       "    </tr>\n",
       "  </thead>\n",
       "  <tbody>\n",
       "    <tr>\n",
       "      <th>1743-11-01</th>\n",
       "      <td>3.264</td>\n",
       "      <td>11</td>\n",
       "      <td>NaN</td>\n",
       "    </tr>\n",
       "    <tr>\n",
       "      <th>1744-04-01</th>\n",
       "      <td>9.788</td>\n",
       "      <td>4</td>\n",
       "      <td>NaN</td>\n",
       "    </tr>\n",
       "    <tr>\n",
       "      <th>1744-05-01</th>\n",
       "      <td>15.708</td>\n",
       "      <td>5</td>\n",
       "      <td>NaN</td>\n",
       "    </tr>\n",
       "    <tr>\n",
       "      <th>1744-06-01</th>\n",
       "      <td>21.210</td>\n",
       "      <td>6</td>\n",
       "      <td>NaN</td>\n",
       "    </tr>\n",
       "    <tr>\n",
       "      <th>1744-07-01</th>\n",
       "      <td>22.207</td>\n",
       "      <td>7</td>\n",
       "      <td>NaN</td>\n",
       "    </tr>\n",
       "    <tr>\n",
       "      <th>...</th>\n",
       "      <td>...</td>\n",
       "      <td>...</td>\n",
       "      <td>...</td>\n",
       "    </tr>\n",
       "    <tr>\n",
       "      <th>2013-05-01</th>\n",
       "      <td>17.434</td>\n",
       "      <td>5</td>\n",
       "      <td>0.879</td>\n",
       "    </tr>\n",
       "    <tr>\n",
       "      <th>2013-06-01</th>\n",
       "      <td>19.759</td>\n",
       "      <td>6</td>\n",
       "      <td>1.277</td>\n",
       "    </tr>\n",
       "    <tr>\n",
       "      <th>2013-07-01</th>\n",
       "      <td>20.657</td>\n",
       "      <td>7</td>\n",
       "      <td>1.025</td>\n",
       "    </tr>\n",
       "    <tr>\n",
       "      <th>2013-08-01</th>\n",
       "      <td>19.731</td>\n",
       "      <td>8</td>\n",
       "      <td>-0.800</td>\n",
       "    </tr>\n",
       "    <tr>\n",
       "      <th>2013-09-01</th>\n",
       "      <td>20.471</td>\n",
       "      <td>9</td>\n",
       "      <td>1.426</td>\n",
       "    </tr>\n",
       "  </tbody>\n",
       "</table>\n",
       "<p>7154 rows × 3 columns</p>\n",
       "</div>"
      ],
      "text/plain": [
       "            AverageTemperature  Month  diff_temp\n",
       "dt                                              \n",
       "1743-11-01               3.264     11        NaN\n",
       "1744-04-01               9.788      4        NaN\n",
       "1744-05-01              15.708      5        NaN\n",
       "1744-06-01              21.210      6        NaN\n",
       "1744-07-01              22.207      7        NaN\n",
       "...                        ...    ...        ...\n",
       "2013-05-01              17.434      5      0.879\n",
       "2013-06-01              19.759      6      1.277\n",
       "2013-07-01              20.657      7      1.025\n",
       "2013-08-01              19.731      8     -0.800\n",
       "2013-09-01              20.471      9      1.426\n",
       "\n",
       "[7154 rows x 3 columns]"
      ]
     },
     "execution_count": 361,
     "metadata": {},
     "output_type": "execute_result"
    }
   ],
   "source": [
    "data_differenciated"
   ]
  },
  {
   "cell_type": "code",
   "execution_count": 362,
   "metadata": {},
   "outputs": [
    {
     "data": {
      "text/plain": [
       "(-21.245514607771018,\n",
       " 0.0,\n",
       " 35,\n",
       " 7106,\n",
       " {'1%': -3.4312705831413144,\n",
       "  '5%': -2.8619468247435202,\n",
       "  '10%': -2.566986548733429},\n",
       " 29716.912902288343)"
      ]
     },
     "execution_count": 362,
     "metadata": {},
     "output_type": "execute_result"
    }
   ],
   "source": [
    "adfuller(data_differenciated['diff_temp'].dropna())"
   ]
  },
  {
   "cell_type": "code",
   "execution_count": 363,
   "metadata": {},
   "outputs": [
    {
     "name": "stdout",
     "output_type": "stream",
     "text": [
      "AD statistic :-21.245514607771018\n",
      "Pval :0.0\n",
      "lags :35\n",
      "nr_obv :7106\n",
      "Reject the null hypothesis, data is stationary\n"
     ]
    }
   ],
   "source": [
    "adfuller_test(data_differenciated['diff_temp'].dropna())"
   ]
  },
  {
   "cell_type": "code",
   "execution_count": 364,
   "metadata": {},
   "outputs": [
    {
     "data": {
      "text/plain": [
       "<AxesSubplot:xlabel='dt'>"
      ]
     },
     "execution_count": 364,
     "metadata": {},
     "output_type": "execute_result"
    },
    {
     "data": {
      "image/png": "[encoded data removed]",
      "text/plain": [
       "<Figure size 1152x576 with 1 Axes>"
      ]
     },
     "metadata": {
      "needs_background": "light"
     },
     "output_type": "display_data"
    }
   ],
   "source": [
    "data_differenciated['diff_temp'].plot(figsize=(16,8))"
   ]
  },
  {
   "cell_type": "code",
   "execution_count": 365,
   "metadata": {},
   "outputs": [],
   "source": [
    "#Building model ARIMA"
   ]
  },
  {
   "cell_type": "code",
   "execution_count": 366,
   "metadata": {},
   "outputs": [],
   "source": [
    "model_data=data_differenciated[['diff_temp']]"
   ]
  },
  {
   "cell_type": "code",
   "execution_count": 367,
   "metadata": {},
   "outputs": [
    {
     "name": "stderr",
     "output_type": "stream",
     "text": [
      "<ipython-input-367-182d6396b34f>:1: SettingWithCopyWarning: \n",
      "A value is trying to be set on a copy of a slice from a DataFrame\n",
      "\n",
      "See the caveats in the documentation: https://pandas.pydata.org/pandas-docs/stable/user_guide/indexing.html#returning-a-view-versus-a-copy\n",
      "  model_data['diff_temp'].dropna(inplace=True)\n"
     ]
    }
   ],
   "source": [
    "model_data['diff_temp'].dropna(inplace=True)"
   ]
  },
  {
   "cell_type": "code",
   "execution_count": 368,
   "metadata": {},
   "outputs": [
    {
     "data": {
      "text/plain": [
       "dt\n",
       "1743-11-01      NaN\n",
       "1744-04-01      NaN\n",
       "1744-05-01      NaN\n",
       "1744-06-01      NaN\n",
       "1744-07-01      NaN\n",
       "              ...  \n",
       "2013-05-01    0.879\n",
       "2013-06-01    1.277\n",
       "2013-07-01    1.025\n",
       "2013-08-01   -0.800\n",
       "2013-09-01    1.426\n",
       "Name: diff_temp, Length: 7154, dtype: float64"
      ]
     },
     "execution_count": 368,
     "metadata": {},
     "output_type": "execute_result"
    }
   ],
   "source": [
    "model_data['diff_temp']"
   ]
  },
  {
   "cell_type": "code",
   "execution_count": 369,
   "metadata": {},
   "outputs": [
    {
     "data": {
      "image/png": "[encoded data removed]",
      "text/plain": [
       "<Figure size 432x288 with 1 Axes>"
      ]
     },
     "metadata": {
      "needs_background": "light"
     },
     "output_type": "display_data"
    }
   ],
   "source": [
    "plot_acf(model_data['diff_temp'].dropna())\n",
    "plt.show() #q=11"
   ]
  },
  {
   "cell_type": "code",
   "execution_count": 370,
   "metadata": {},
   "outputs": [
    {
     "data": {
      "image/png": "[encoded data removed]",
      "text/plain": [
       "<Figure size 432x288 with 1 Axes>"
      ]
     },
     "metadata": {
      "needs_background": "light"
     },
     "output_type": "display_data"
    }
   ],
   "source": [
    "plot_pacf(model_data['diff_temp'].dropna())\n",
    "plt.show() #p=6"
   ]
  },
  {
   "cell_type": "code",
   "execution_count": 371,
   "metadata": {},
   "outputs": [],
   "source": [
    "\n",
    "df=model_data[['diff_temp']]"
   ]
  },
  {
   "cell_type": "code",
   "execution_count": 372,
   "metadata": {},
   "outputs": [],
   "source": [
    "df.dropna(inplace=True)"
   ]
  },
  {
   "cell_type": "code",
   "execution_count": 373,
   "metadata": {},
   "outputs": [
    {
     "data": {
      "text/plain": [
       "(7142, 1)"
      ]
     },
     "execution_count": 373,
     "metadata": {},
     "output_type": "execute_result"
    }
   ],
   "source": [
    "df.shape"
   ]
  },
  {
   "cell_type": "code",
   "execution_count": 374,
   "metadata": {},
   "outputs": [],
   "source": [
    "train=df[0:6000]\n",
    "test=df[6000:]"
   ]
  },
  {
   "cell_type": "code",
   "execution_count": 375,
   "metadata": {},
   "outputs": [
    {
     "name": "stderr",
     "output_type": "stream",
     "text": [
      "C:\\Users\\Gerta\\anaconda3\\lib\\site-packages\\statsmodels\\tsa\\arima_model.py:472: FutureWarning: \n",
      "statsmodels.tsa.arima_model.ARMA and statsmodels.tsa.arima_model.ARIMA have\n",
      "been deprecated in favor of statsmodels.tsa.arima.model.ARIMA (note the .\n",
      "between arima and model) and\n",
      "statsmodels.tsa.SARIMAX. These will be removed after the 0.12 release.\n",
      "\n",
      "statsmodels.tsa.arima.model.ARIMA makes use of the statespace framework and\n",
      "is both well tested and maintained.\n",
      "\n",
      "To silence this warning and continue using ARMA and ARIMA until they are\n",
      "removed, use:\n",
      "\n",
      "import warnings\n",
      "warnings.filterwarnings('ignore', 'statsmodels.tsa.arima_model.ARMA',\n",
      "                        FutureWarning)\n",
      "warnings.filterwarnings('ignore', 'statsmodels.tsa.arima_model.ARIMA',\n",
      "                        FutureWarning)\n",
      "\n",
      "  warnings.warn(ARIMA_DEPRECATION_WARN, FutureWarning)\n",
      "C:\\Users\\Gerta\\anaconda3\\lib\\site-packages\\statsmodels\\tsa\\base\\tsa_model.py:581: ValueWarning: A date index has been provided, but it has no associated frequency information and so will be ignored when e.g. forecasting.\n",
      "  warnings.warn('A date index has been provided, but it has no'\n",
      "C:\\Users\\Gerta\\anaconda3\\lib\\site-packages\\statsmodels\\tsa\\base\\tsa_model.py:585: ValueWarning: A date index has been provided, but it is not monotonic and so will be ignored when e.g. forecasting.\n",
      "  warnings.warn('A date index has been provided, but it is not'\n"
     ]
    }
   ],
   "source": [
    "arima=ARIMA(train, order=(6,1,11))"
   ]
  },
  {
   "cell_type": "code",
   "execution_count": 376,
   "metadata": {},
   "outputs": [
    {
     "name": "stderr",
     "output_type": "stream",
     "text": [
      "C:\\Users\\Gerta\\anaconda3\\lib\\site-packages\\statsmodels\\base\\model.py:547: HessianInversionWarning: Inverting hessian failed, no bse or cov_params available\n",
      "  warnings.warn('Inverting hessian failed, no bse or cov_params '\n",
      "C:\\Users\\Gerta\\anaconda3\\lib\\site-packages\\statsmodels\\base\\model.py:566: ConvergenceWarning: Maximum Likelihood optimization failed to converge. Check mle_retvals\n",
      "  warnings.warn(\"Maximum Likelihood optimization failed to \"\n",
      "C:\\Users\\Gerta\\anaconda3\\lib\\site-packages\\statsmodels\\tsa\\arima_model.py:472: FutureWarning: \n",
      "statsmodels.tsa.arima_model.ARMA and statsmodels.tsa.arima_model.ARIMA have\n",
      "been deprecated in favor of statsmodels.tsa.arima.model.ARIMA (note the .\n",
      "between arima and model) and\n",
      "statsmodels.tsa.SARIMAX. These will be removed after the 0.12 release.\n",
      "\n",
      "statsmodels.tsa.arima.model.ARIMA makes use of the statespace framework and\n",
      "is both well tested and maintained.\n",
      "\n",
      "To silence this warning and continue using ARMA and ARIMA until they are\n",
      "removed, use:\n",
      "\n",
      "import warnings\n",
      "warnings.filterwarnings('ignore', 'statsmodels.tsa.arima_model.ARMA',\n",
      "                        FutureWarning)\n",
      "warnings.filterwarnings('ignore', 'statsmodels.tsa.arima_model.ARIMA',\n",
      "                        FutureWarning)\n",
      "\n",
      "  warnings.warn(ARIMA_DEPRECATION_WARN, FutureWarning)\n"
     ]
    }
   ],
   "source": [
    "model_fit=arima.fit()"
   ]
  },
  {
   "cell_type": "code",
   "execution_count": 386,
   "metadata": {},
   "outputs": [],
   "source": [
    "predicted_val=model_fit.forecast(steps=len(test))"
   ]
  },
  {
   "cell_type": "code",
   "execution_count": 387,
   "metadata": {},
   "outputs": [
    {
     "data": {
      "text/plain": [
       "(array([ 0.79738453, -1.17734084, -1.31553194, ..., -0.03155216,\n",
       "        -0.03156029, -0.03156841]),\n",
       " array([1.99815719, 2.34942024, 2.49561203, ..., 3.20068274, 3.20068364,\n",
       "        3.20068454]),\n",
       " array([[-3.1189316 ,  4.71370066],\n",
       "        [-5.78211989,  3.42743822],\n",
       "        [-6.20684164,  3.57577776],\n",
       "        ...,\n",
       "        [-6.30477505,  6.24167073],\n",
       "        [-6.30478494,  6.24166437],\n",
       "        [-6.30479484,  6.24165802]]))"
      ]
     },
     "execution_count": 387,
     "metadata": {},
     "output_type": "execute_result"
    }
   ],
   "source": [
    "predicted_val"
   ]
  },
  {
   "cell_type": "code",
   "execution_count": 388,
   "metadata": {},
   "outputs": [
    {
     "data": {
      "text/plain": [
       "3"
      ]
     },
     "execution_count": 388,
     "metadata": {},
     "output_type": "execute_result"
    }
   ],
   "source": [
    "len(predicted_val)"
   ]
  },
  {
   "cell_type": "code",
   "execution_count": 389,
   "metadata": {},
   "outputs": [],
   "source": [
    "predarr1=predicted[0]"
   ]
  },
  {
   "cell_type": "code",
   "execution_count": 390,
   "metadata": {},
   "outputs": [
    {
     "name": "stdout",
     "output_type": "stream",
     "text": [
      "1142\n",
      "1142\n"
     ]
    }
   ],
   "source": [
    "print(len(test))\n",
    "print(len(predarr1))"
   ]
  },
  {
   "cell_type": "code",
   "execution_count": 394,
   "metadata": {},
   "outputs": [
    {
     "data": {
      "text/plain": [
       "1.4961077911959164"
      ]
     },
     "execution_count": 394,
     "metadata": {},
     "output_type": "execute_result"
    }
   ],
   "source": [
    "\n",
    "np.sqrt(mean_squared_error(test,predarr1))"
   ]
  },
  {
   "cell_type": "code",
   "execution_count": 395,
   "metadata": {},
   "outputs": [],
   "source": [
    "forecasted_data=[[test,predarr1]]"
   ]
  },
  {
   "cell_type": "code",
   "execution_count": null,
   "metadata": {},
   "outputs": [],
   "source": []
  },
  {
   "cell_type": "code",
   "execution_count": null,
   "metadata": {},
   "outputs": [],
   "source": []
  }
 ],
 "metadata": {
  "kernelspec": {
   "display_name": "Python 3",
   "language": "python",
   "name": "python3"
  },
  "language_info": {
   "codemirror_mode": {
    "name": "ipython",
    "version": 3
   },
   "file_extension": ".py",
   "mimetype": "text/x-python",
   "name": "python",
   "nbconvert_exporter": "python",
   "pygments_lexer": "ipython3",
   "version": "3.8.5"
  }
 },
 "nbformat": 4,
 "nbformat_minor": 4
}
